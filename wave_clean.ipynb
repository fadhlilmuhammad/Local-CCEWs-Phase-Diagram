{
 "cells": [
  {
   "cell_type": "code",
   "execution_count": 14,
   "id": "8d5f9f25",
   "metadata": {},
   "outputs": [],
   "source": [
    "import pandas as pd\n",
    "import numpy as np"
   ]
  },
  {
   "cell_type": "code",
   "execution_count": 15,
   "id": "804e50f4",
   "metadata": {},
   "outputs": [],
   "source": [
    "diri = \"/Users/fadhlilrizki/Documents/PhD/thesis/dataout/local_wave_phase/combined_wave/\"\n",
    "diri2 = diri+\"check/\""
   ]
  },
  {
   "cell_type": "code",
   "execution_count": 16,
   "id": "d6cf720f-f0c5-44d6-b181-12d250da01d7",
   "metadata": {},
   "outputs": [],
   "source": [
    "seasmon = 'djf'\n",
    "code = 1\n",
    "\n",
    "regioncode = [\"TE\", \"CY\", \"KY\", \"QL\",\"EC\"]\n",
    "region = regioncode[code]\n",
    "\n",
    "wave1 = \"er\"\n",
    "cond1 = \"wet\"\n",
    "\n",
    "wave2 = \"mjo\"\n",
    "cond2 = \"wet\"\n",
    "\n",
    "wave_destruct1 = \"mjo\"\n",
    "cond_destruct1 = \"dry\"\n",
    "\n",
    "wave_destruct2 = \"mrg\"\n",
    "cond_destruct2 = \"wet\"\n",
    "\n",
    "wave_destruct3 = \"mrg\"\n",
    "cond_destruct3 = \"dry\"\n",
    "\n",
    "wave_destruct4 = \"\"\n",
    "cond_destruct4 = \"dry\"\n",
    "\n",
    "# wave_destruct3 = \"mrg\"\n",
    "# cond_destruct3 = \"wet\""
   ]
  },
  {
   "cell_type": "code",
   "execution_count": 17,
   "id": "b184b457",
   "metadata": {},
   "outputs": [],
   "source": [
    "fref = wave1+\"_\"+wave2+\"_\"+cond1+cond2+\"_\"+region+\"_\"+seasmon+\".csv\"\n",
    "\n",
    "#wave_penganggu\n",
    "fwave1 = wave_destruct1+\"_\"+wave_destruct1+\"_\"+cond_destruct1+cond_destruct1+\"_\"+region+\"_\"+seasmon+\".csv\"\n",
    "fwave2 = wave_destruct2+\"_\"+wave_destruct2+\"_\"+cond_destruct2+cond_destruct2+\"_\"+region+\"_\"+seasmon+\".csv\"\n",
    "fwave3 = wave_destruct3+\"_\"+wave_destruct3+\"_\"+cond_destruct3+cond_destruct3+\"_\"+region+\"_\"+seasmon+\".csv\"\n",
    "fwave4 = wave_destruct4+\"_\"+wave_destruct4+\"_\"+cond_destruct4+cond_destruct4+\"_\"+region+\"_\"+seasmon+\".csv\"\n",
    "# fwave4 = \"er_er_wetwet_EC_djf.csv\"\n",
    "\n",
    "fname  = wave1+\"_\"+wave2+\"_only_\"+region+\"_\"+seasmon+\".csv\"\n",
    "\n",
    "fwave_wo1 = wave1+\"_\"+wave2+\"_\"+cond1+cond2+\"_wo\"+wave_destruct1+cond_destruct1+\"_\"+region+\"_\"+seasmon+\".csv\"\n",
    "fwave_wo2 = wave1+\"_\"+wave2+\"_\"+cond1+cond2+\"_wo\"+wave_destruct2+cond_destruct2+\"_\"+region+\"_\"+seasmon+\".csv\"\n",
    "fwave_wo3 = wave1+\"_\"+wave2+\"_\"+cond1+cond2+\"_wo\"+wave_destruct3+cond_destruct3+\"_\"+region+\"_\"+seasmon+\".csv\"\n",
    "fwave_wo4 = wave1+\"_\"+wave2+\"_\"+cond1+cond2+\"_wo\"+wave_destruct4+cond_destruct4+\"_\"+region+\"_\"+seasmon+\".csv\"\n",
    "# fmjo   = \"mjo_mjo_wetwet_EC_djf.csv\""
   ]
  },
  {
   "cell_type": "code",
   "execution_count": 18,
   "id": "01514293",
   "metadata": {},
   "outputs": [],
   "source": [
    "# frmm  = \"rmm_index.txt\""
   ]
  },
  {
   "cell_type": "code",
   "execution_count": 19,
   "id": "0d0c1d36",
   "metadata": {},
   "outputs": [
    {
     "ename": "FileNotFoundError",
     "evalue": "[Errno 2] No such file or directory: '/Users/fadhlilrizki/Documents/PhD/thesis/dataout/local_wave_phase/combined_wave/__drydry_CY_djf.csv'",
     "output_type": "error",
     "traceback": [
      "\u001b[0;31m---------------------------------------------------------------------------\u001b[0m",
      "\u001b[0;31mFileNotFoundError\u001b[0m                         Traceback (most recent call last)",
      "\u001b[0;32m/var/folders/41/txq0cr4j1kl0vqjl56x7l60w0000gp/T/ipykernel_54073/3033212368.py\u001b[0m in \u001b[0;36m<module>\u001b[0;34m\u001b[0m\n\u001b[1;32m     11\u001b[0m \u001b[0mdwave3\u001b[0m\u001b[0;34m[\u001b[0m\u001b[0;34m'date'\u001b[0m\u001b[0;34m]\u001b[0m \u001b[0;34m=\u001b[0m \u001b[0mdwave3\u001b[0m\u001b[0;34m[\u001b[0m\u001b[0;34m'date'\u001b[0m\u001b[0;34m]\u001b[0m\u001b[0;34m.\u001b[0m\u001b[0mastype\u001b[0m\u001b[0;34m(\u001b[0m\u001b[0;34m'str'\u001b[0m\u001b[0;34m)\u001b[0m\u001b[0;34m\u001b[0m\u001b[0;34m\u001b[0m\u001b[0m\n\u001b[1;32m     12\u001b[0m \u001b[0;34m\u001b[0m\u001b[0m\n\u001b[0;32m---> 13\u001b[0;31m \u001b[0mdwave4\u001b[0m \u001b[0;34m=\u001b[0m \u001b[0mpd\u001b[0m\u001b[0;34m.\u001b[0m\u001b[0mread_csv\u001b[0m\u001b[0;34m(\u001b[0m\u001b[0mdiri\u001b[0m\u001b[0;34m+\u001b[0m\u001b[0mfwave4\u001b[0m\u001b[0;34m)\u001b[0m\u001b[0;34m\u001b[0m\u001b[0;34m\u001b[0m\u001b[0m\n\u001b[0m\u001b[1;32m     14\u001b[0m \u001b[0mdwave4\u001b[0m\u001b[0;34m[\u001b[0m\u001b[0;34m'date'\u001b[0m\u001b[0;34m]\u001b[0m \u001b[0;34m=\u001b[0m \u001b[0mdwave4\u001b[0m\u001b[0;34m[\u001b[0m\u001b[0;34m'date'\u001b[0m\u001b[0;34m]\u001b[0m\u001b[0;34m.\u001b[0m\u001b[0mastype\u001b[0m\u001b[0;34m(\u001b[0m\u001b[0;34m'str'\u001b[0m\u001b[0;34m)\u001b[0m\u001b[0;34m\u001b[0m\u001b[0;34m\u001b[0m\u001b[0m\n\u001b[1;32m     15\u001b[0m \u001b[0;34m\u001b[0m\u001b[0m\n",
      "\u001b[0;32m~/opt/anaconda3/lib/python3.9/site-packages/pandas/util/_decorators.py\u001b[0m in \u001b[0;36mwrapper\u001b[0;34m(*args, **kwargs)\u001b[0m\n\u001b[1;32m    309\u001b[0m                     \u001b[0mstacklevel\u001b[0m\u001b[0;34m=\u001b[0m\u001b[0mstacklevel\u001b[0m\u001b[0;34m,\u001b[0m\u001b[0;34m\u001b[0m\u001b[0;34m\u001b[0m\u001b[0m\n\u001b[1;32m    310\u001b[0m                 )\n\u001b[0;32m--> 311\u001b[0;31m             \u001b[0;32mreturn\u001b[0m \u001b[0mfunc\u001b[0m\u001b[0;34m(\u001b[0m\u001b[0;34m*\u001b[0m\u001b[0margs\u001b[0m\u001b[0;34m,\u001b[0m \u001b[0;34m**\u001b[0m\u001b[0mkwargs\u001b[0m\u001b[0;34m)\u001b[0m\u001b[0;34m\u001b[0m\u001b[0;34m\u001b[0m\u001b[0m\n\u001b[0m\u001b[1;32m    312\u001b[0m \u001b[0;34m\u001b[0m\u001b[0m\n\u001b[1;32m    313\u001b[0m         \u001b[0;32mreturn\u001b[0m \u001b[0mwrapper\u001b[0m\u001b[0;34m\u001b[0m\u001b[0;34m\u001b[0m\u001b[0m\n",
      "\u001b[0;32m~/opt/anaconda3/lib/python3.9/site-packages/pandas/io/parsers/readers.py\u001b[0m in \u001b[0;36mread_csv\u001b[0;34m(filepath_or_buffer, sep, delimiter, header, names, index_col, usecols, squeeze, prefix, mangle_dupe_cols, dtype, engine, converters, true_values, false_values, skipinitialspace, skiprows, skipfooter, nrows, na_values, keep_default_na, na_filter, verbose, skip_blank_lines, parse_dates, infer_datetime_format, keep_date_col, date_parser, dayfirst, cache_dates, iterator, chunksize, compression, thousands, decimal, lineterminator, quotechar, quoting, doublequote, escapechar, comment, encoding, encoding_errors, dialect, error_bad_lines, warn_bad_lines, on_bad_lines, delim_whitespace, low_memory, memory_map, float_precision, storage_options)\u001b[0m\n\u001b[1;32m    676\u001b[0m     \u001b[0mkwds\u001b[0m\u001b[0;34m.\u001b[0m\u001b[0mupdate\u001b[0m\u001b[0;34m(\u001b[0m\u001b[0mkwds_defaults\u001b[0m\u001b[0;34m)\u001b[0m\u001b[0;34m\u001b[0m\u001b[0;34m\u001b[0m\u001b[0m\n\u001b[1;32m    677\u001b[0m \u001b[0;34m\u001b[0m\u001b[0m\n\u001b[0;32m--> 678\u001b[0;31m     \u001b[0;32mreturn\u001b[0m \u001b[0m_read\u001b[0m\u001b[0;34m(\u001b[0m\u001b[0mfilepath_or_buffer\u001b[0m\u001b[0;34m,\u001b[0m \u001b[0mkwds\u001b[0m\u001b[0;34m)\u001b[0m\u001b[0;34m\u001b[0m\u001b[0;34m\u001b[0m\u001b[0m\n\u001b[0m\u001b[1;32m    679\u001b[0m \u001b[0;34m\u001b[0m\u001b[0m\n\u001b[1;32m    680\u001b[0m \u001b[0;34m\u001b[0m\u001b[0m\n",
      "\u001b[0;32m~/opt/anaconda3/lib/python3.9/site-packages/pandas/io/parsers/readers.py\u001b[0m in \u001b[0;36m_read\u001b[0;34m(filepath_or_buffer, kwds)\u001b[0m\n\u001b[1;32m    573\u001b[0m \u001b[0;34m\u001b[0m\u001b[0m\n\u001b[1;32m    574\u001b[0m     \u001b[0;31m# Create the parser.\u001b[0m\u001b[0;34m\u001b[0m\u001b[0;34m\u001b[0m\u001b[0m\n\u001b[0;32m--> 575\u001b[0;31m     \u001b[0mparser\u001b[0m \u001b[0;34m=\u001b[0m \u001b[0mTextFileReader\u001b[0m\u001b[0;34m(\u001b[0m\u001b[0mfilepath_or_buffer\u001b[0m\u001b[0;34m,\u001b[0m \u001b[0;34m**\u001b[0m\u001b[0mkwds\u001b[0m\u001b[0;34m)\u001b[0m\u001b[0;34m\u001b[0m\u001b[0;34m\u001b[0m\u001b[0m\n\u001b[0m\u001b[1;32m    576\u001b[0m \u001b[0;34m\u001b[0m\u001b[0m\n\u001b[1;32m    577\u001b[0m     \u001b[0;32mif\u001b[0m \u001b[0mchunksize\u001b[0m \u001b[0;32mor\u001b[0m \u001b[0miterator\u001b[0m\u001b[0;34m:\u001b[0m\u001b[0;34m\u001b[0m\u001b[0;34m\u001b[0m\u001b[0m\n",
      "\u001b[0;32m~/opt/anaconda3/lib/python3.9/site-packages/pandas/io/parsers/readers.py\u001b[0m in \u001b[0;36m__init__\u001b[0;34m(self, f, engine, **kwds)\u001b[0m\n\u001b[1;32m    930\u001b[0m \u001b[0;34m\u001b[0m\u001b[0m\n\u001b[1;32m    931\u001b[0m         \u001b[0mself\u001b[0m\u001b[0;34m.\u001b[0m\u001b[0mhandles\u001b[0m\u001b[0;34m:\u001b[0m \u001b[0mIOHandles\u001b[0m \u001b[0;34m|\u001b[0m \u001b[0;32mNone\u001b[0m \u001b[0;34m=\u001b[0m \u001b[0;32mNone\u001b[0m\u001b[0;34m\u001b[0m\u001b[0;34m\u001b[0m\u001b[0m\n\u001b[0;32m--> 932\u001b[0;31m         \u001b[0mself\u001b[0m\u001b[0;34m.\u001b[0m\u001b[0m_engine\u001b[0m \u001b[0;34m=\u001b[0m \u001b[0mself\u001b[0m\u001b[0;34m.\u001b[0m\u001b[0m_make_engine\u001b[0m\u001b[0;34m(\u001b[0m\u001b[0mf\u001b[0m\u001b[0;34m,\u001b[0m \u001b[0mself\u001b[0m\u001b[0;34m.\u001b[0m\u001b[0mengine\u001b[0m\u001b[0;34m)\u001b[0m\u001b[0;34m\u001b[0m\u001b[0;34m\u001b[0m\u001b[0m\n\u001b[0m\u001b[1;32m    933\u001b[0m \u001b[0;34m\u001b[0m\u001b[0m\n\u001b[1;32m    934\u001b[0m     \u001b[0;32mdef\u001b[0m \u001b[0mclose\u001b[0m\u001b[0;34m(\u001b[0m\u001b[0mself\u001b[0m\u001b[0;34m)\u001b[0m\u001b[0;34m:\u001b[0m\u001b[0;34m\u001b[0m\u001b[0;34m\u001b[0m\u001b[0m\n",
      "\u001b[0;32m~/opt/anaconda3/lib/python3.9/site-packages/pandas/io/parsers/readers.py\u001b[0m in \u001b[0;36m_make_engine\u001b[0;34m(self, f, engine)\u001b[0m\n\u001b[1;32m   1214\u001b[0m             \u001b[0;31m# \"Union[str, PathLike[str], ReadCsvBuffer[bytes], ReadCsvBuffer[str]]\"\u001b[0m\u001b[0;34m\u001b[0m\u001b[0;34m\u001b[0m\u001b[0m\n\u001b[1;32m   1215\u001b[0m             \u001b[0;31m# , \"str\", \"bool\", \"Any\", \"Any\", \"Any\", \"Any\", \"Any\"\u001b[0m\u001b[0;34m\u001b[0m\u001b[0;34m\u001b[0m\u001b[0m\n\u001b[0;32m-> 1216\u001b[0;31m             self.handles = get_handle(  # type: ignore[call-overload]\n\u001b[0m\u001b[1;32m   1217\u001b[0m                 \u001b[0mf\u001b[0m\u001b[0;34m,\u001b[0m\u001b[0;34m\u001b[0m\u001b[0;34m\u001b[0m\u001b[0m\n\u001b[1;32m   1218\u001b[0m                 \u001b[0mmode\u001b[0m\u001b[0;34m,\u001b[0m\u001b[0;34m\u001b[0m\u001b[0;34m\u001b[0m\u001b[0m\n",
      "\u001b[0;32m~/opt/anaconda3/lib/python3.9/site-packages/pandas/io/common.py\u001b[0m in \u001b[0;36mget_handle\u001b[0;34m(path_or_buf, mode, encoding, compression, memory_map, is_text, errors, storage_options)\u001b[0m\n\u001b[1;32m    784\u001b[0m         \u001b[0;32mif\u001b[0m \u001b[0mioargs\u001b[0m\u001b[0;34m.\u001b[0m\u001b[0mencoding\u001b[0m \u001b[0;32mand\u001b[0m \u001b[0;34m\"b\"\u001b[0m \u001b[0;32mnot\u001b[0m \u001b[0;32min\u001b[0m \u001b[0mioargs\u001b[0m\u001b[0;34m.\u001b[0m\u001b[0mmode\u001b[0m\u001b[0;34m:\u001b[0m\u001b[0;34m\u001b[0m\u001b[0;34m\u001b[0m\u001b[0m\n\u001b[1;32m    785\u001b[0m             \u001b[0;31m# Encoding\u001b[0m\u001b[0;34m\u001b[0m\u001b[0;34m\u001b[0m\u001b[0m\n\u001b[0;32m--> 786\u001b[0;31m             handle = open(\n\u001b[0m\u001b[1;32m    787\u001b[0m                 \u001b[0mhandle\u001b[0m\u001b[0;34m,\u001b[0m\u001b[0;34m\u001b[0m\u001b[0;34m\u001b[0m\u001b[0m\n\u001b[1;32m    788\u001b[0m                 \u001b[0mioargs\u001b[0m\u001b[0;34m.\u001b[0m\u001b[0mmode\u001b[0m\u001b[0;34m,\u001b[0m\u001b[0;34m\u001b[0m\u001b[0;34m\u001b[0m\u001b[0m\n",
      "\u001b[0;31mFileNotFoundError\u001b[0m: [Errno 2] No such file or directory: '/Users/fadhlilrizki/Documents/PhD/thesis/dataout/local_wave_phase/combined_wave/__drydry_CY_djf.csv'"
     ]
    }
   ],
   "source": [
    "dwaveref = pd.read_csv(diri+fref)\n",
    "dwaveref['date'] = dwaveref['date'].astype('str')\n",
    "\n",
    "dwave1 = pd.read_csv(diri+fwave1)\n",
    "dwave1['date'] = dwave1['date'].astype('str')\n",
    "\n",
    "dwave2 = pd.read_csv(diri+fwave2)\n",
    "dwave2['date'] = dwave2['date'].astype('str')\n",
    "\n",
    "dwave3 = pd.read_csv(diri+fwave3)\n",
    "dwave3['date'] = dwave3['date'].astype('str')\n",
    "\n",
    "dwave4 = pd.read_csv(diri+fwave4)\n",
    "dwave4['date'] = dwave4['date'].astype('str')\n",
    "\n",
    "dall   = pd.concat([dwave1, dwave2, dwave3, dwave4])\n",
    "dall\n",
    "# dwave4 = pd.read_csv(diri+fwave4)\n",
    "# dwave4['date'] = dwave4['date'].astype('str')\n",
    "# dwave4"
   ]
  },
  {
   "cell_type": "code",
   "execution_count": 20,
   "id": "372f9200",
   "metadata": {},
   "outputs": [],
   "source": [
    "# dmjo  = pd.read_csv(diri+fmjo)\n",
    "# dmjo['date'] = dmjo['date'].astype('str')\n",
    "\n",
    "# print(\"printing lists in new line\")\n",
    " \n",
    "# print(*dmjo['date'], sep = \"\\n\")"
   ]
  },
  {
   "cell_type": "code",
   "execution_count": 21,
   "id": "ae4dad57",
   "metadata": {},
   "outputs": [
    {
     "data": {
      "text/html": [
       "<div>\n",
       "<style scoped>\n",
       "    .dataframe tbody tr th:only-of-type {\n",
       "        vertical-align: middle;\n",
       "    }\n",
       "\n",
       "    .dataframe tbody tr th {\n",
       "        vertical-align: top;\n",
       "    }\n",
       "\n",
       "    .dataframe thead th {\n",
       "        text-align: right;\n",
       "    }\n",
       "</style>\n",
       "<table border=\"1\" class=\"dataframe\">\n",
       "  <thead>\n",
       "    <tr style=\"text-align: right;\">\n",
       "      <th></th>\n",
       "      <th>date</th>\n",
       "    </tr>\n",
       "  </thead>\n",
       "  <tbody>\n",
       "    <tr>\n",
       "      <th>0</th>\n",
       "      <td>19831204</td>\n",
       "    </tr>\n",
       "    <tr>\n",
       "      <th>1</th>\n",
       "      <td>19861207</td>\n",
       "    </tr>\n",
       "    <tr>\n",
       "      <th>2</th>\n",
       "      <td>19861208</td>\n",
       "    </tr>\n",
       "    <tr>\n",
       "      <th>3</th>\n",
       "      <td>19890131</td>\n",
       "    </tr>\n",
       "    <tr>\n",
       "      <th>4</th>\n",
       "      <td>19890201</td>\n",
       "    </tr>\n",
       "    <tr>\n",
       "      <th>5</th>\n",
       "      <td>19890202</td>\n",
       "    </tr>\n",
       "    <tr>\n",
       "      <th>6</th>\n",
       "      <td>19890203</td>\n",
       "    </tr>\n",
       "    <tr>\n",
       "      <th>7</th>\n",
       "      <td>19890205</td>\n",
       "    </tr>\n",
       "    <tr>\n",
       "      <th>8</th>\n",
       "      <td>19901211</td>\n",
       "    </tr>\n",
       "    <tr>\n",
       "      <th>9</th>\n",
       "      <td>19911212</td>\n",
       "    </tr>\n",
       "    <tr>\n",
       "      <th>10</th>\n",
       "      <td>19911213</td>\n",
       "    </tr>\n",
       "    <tr>\n",
       "      <th>11</th>\n",
       "      <td>19920104</td>\n",
       "    </tr>\n",
       "    <tr>\n",
       "      <th>12</th>\n",
       "      <td>19920208</td>\n",
       "    </tr>\n",
       "    <tr>\n",
       "      <th>13</th>\n",
       "      <td>19920209</td>\n",
       "    </tr>\n",
       "    <tr>\n",
       "      <th>14</th>\n",
       "      <td>19920226</td>\n",
       "    </tr>\n",
       "    <tr>\n",
       "      <th>15</th>\n",
       "      <td>19921221</td>\n",
       "    </tr>\n",
       "    <tr>\n",
       "      <th>16</th>\n",
       "      <td>19951229</td>\n",
       "    </tr>\n",
       "    <tr>\n",
       "      <th>17</th>\n",
       "      <td>19951230</td>\n",
       "    </tr>\n",
       "    <tr>\n",
       "      <th>18</th>\n",
       "      <td>19960212</td>\n",
       "    </tr>\n",
       "    <tr>\n",
       "      <th>19</th>\n",
       "      <td>19991227</td>\n",
       "    </tr>\n",
       "    <tr>\n",
       "      <th>20</th>\n",
       "      <td>19991228</td>\n",
       "    </tr>\n",
       "    <tr>\n",
       "      <th>21</th>\n",
       "      <td>20011212</td>\n",
       "    </tr>\n",
       "    <tr>\n",
       "      <th>22</th>\n",
       "      <td>20011213</td>\n",
       "    </tr>\n",
       "    <tr>\n",
       "      <th>23</th>\n",
       "      <td>20011214</td>\n",
       "    </tr>\n",
       "    <tr>\n",
       "      <th>24</th>\n",
       "      <td>20011215</td>\n",
       "    </tr>\n",
       "    <tr>\n",
       "      <th>25</th>\n",
       "      <td>20011216</td>\n",
       "    </tr>\n",
       "    <tr>\n",
       "      <th>26</th>\n",
       "      <td>20011217</td>\n",
       "    </tr>\n",
       "    <tr>\n",
       "      <th>27</th>\n",
       "      <td>20020218</td>\n",
       "    </tr>\n",
       "    <tr>\n",
       "      <th>28</th>\n",
       "      <td>20020219</td>\n",
       "    </tr>\n",
       "    <tr>\n",
       "      <th>29</th>\n",
       "      <td>20031229</td>\n",
       "    </tr>\n",
       "    <tr>\n",
       "      <th>30</th>\n",
       "      <td>20031230</td>\n",
       "    </tr>\n",
       "    <tr>\n",
       "      <th>31</th>\n",
       "      <td>20040208</td>\n",
       "    </tr>\n",
       "    <tr>\n",
       "      <th>32</th>\n",
       "      <td>20040209</td>\n",
       "    </tr>\n",
       "    <tr>\n",
       "      <th>33</th>\n",
       "      <td>20040210</td>\n",
       "    </tr>\n",
       "    <tr>\n",
       "      <th>34</th>\n",
       "      <td>20040211</td>\n",
       "    </tr>\n",
       "    <tr>\n",
       "      <th>35</th>\n",
       "      <td>20070112</td>\n",
       "    </tr>\n",
       "    <tr>\n",
       "      <th>36</th>\n",
       "      <td>20070113</td>\n",
       "    </tr>\n",
       "    <tr>\n",
       "      <th>37</th>\n",
       "      <td>20070205</td>\n",
       "    </tr>\n",
       "    <tr>\n",
       "      <th>38</th>\n",
       "      <td>20080111</td>\n",
       "    </tr>\n",
       "    <tr>\n",
       "      <th>39</th>\n",
       "      <td>20080221</td>\n",
       "    </tr>\n",
       "    <tr>\n",
       "      <th>40</th>\n",
       "      <td>20140121</td>\n",
       "    </tr>\n",
       "    <tr>\n",
       "      <th>41</th>\n",
       "      <td>20140122</td>\n",
       "    </tr>\n",
       "    <tr>\n",
       "      <th>42</th>\n",
       "      <td>20150115</td>\n",
       "    </tr>\n",
       "    <tr>\n",
       "      <th>43</th>\n",
       "      <td>20151221</td>\n",
       "    </tr>\n",
       "    <tr>\n",
       "      <th>44</th>\n",
       "      <td>20151222</td>\n",
       "    </tr>\n",
       "    <tr>\n",
       "      <th>45</th>\n",
       "      <td>20160202</td>\n",
       "    </tr>\n",
       "    <tr>\n",
       "      <th>46</th>\n",
       "      <td>20170101</td>\n",
       "    </tr>\n",
       "    <tr>\n",
       "      <th>47</th>\n",
       "      <td>20180124</td>\n",
       "    </tr>\n",
       "    <tr>\n",
       "      <th>48</th>\n",
       "      <td>20180125</td>\n",
       "    </tr>\n",
       "    <tr>\n",
       "      <th>49</th>\n",
       "      <td>20180227</td>\n",
       "    </tr>\n",
       "    <tr>\n",
       "      <th>50</th>\n",
       "      <td>20180228</td>\n",
       "    </tr>\n",
       "    <tr>\n",
       "      <th>51</th>\n",
       "      <td>20181229</td>\n",
       "    </tr>\n",
       "    <tr>\n",
       "      <th>52</th>\n",
       "      <td>20181230</td>\n",
       "    </tr>\n",
       "  </tbody>\n",
       "</table>\n",
       "</div>"
      ],
      "text/plain": [
       "        date\n",
       "0   19831204\n",
       "1   19861207\n",
       "2   19861208\n",
       "3   19890131\n",
       "4   19890201\n",
       "5   19890202\n",
       "6   19890203\n",
       "7   19890205\n",
       "8   19901211\n",
       "9   19911212\n",
       "10  19911213\n",
       "11  19920104\n",
       "12  19920208\n",
       "13  19920209\n",
       "14  19920226\n",
       "15  19921221\n",
       "16  19951229\n",
       "17  19951230\n",
       "18  19960212\n",
       "19  19991227\n",
       "20  19991228\n",
       "21  20011212\n",
       "22  20011213\n",
       "23  20011214\n",
       "24  20011215\n",
       "25  20011216\n",
       "26  20011217\n",
       "27  20020218\n",
       "28  20020219\n",
       "29  20031229\n",
       "30  20031230\n",
       "31  20040208\n",
       "32  20040209\n",
       "33  20040210\n",
       "34  20040211\n",
       "35  20070112\n",
       "36  20070113\n",
       "37  20070205\n",
       "38  20080111\n",
       "39  20080221\n",
       "40  20140121\n",
       "41  20140122\n",
       "42  20150115\n",
       "43  20151221\n",
       "44  20151222\n",
       "45  20160202\n",
       "46  20170101\n",
       "47  20180124\n",
       "48  20180125\n",
       "49  20180227\n",
       "50  20180228\n",
       "51  20181229\n",
       "52  20181230"
      ]
     },
     "execution_count": 21,
     "metadata": {},
     "output_type": "execute_result"
    }
   ],
   "source": [
    "# mjo_er_dry  = dmjo[dmjo['date'].isin(dwave2['date'].tolist())]\n",
    "# mjo_mrg_dry = dmjo[dmjo['date'].isin(dwave3['date'].tolist())]\n",
    "# mjo_mrg_dry_without_er = mjo_mrg_dry[~mjo_mrg_dry['date'].isin(dwave4['date'].tolist())]\n",
    "\n",
    "\n",
    "# mjo_mrg_dry_without_er\n",
    "dwaveref"
   ]
  },
  {
   "cell_type": "code",
   "execution_count": 22,
   "id": "f87075b8",
   "metadata": {},
   "outputs": [
    {
     "ename": "NameError",
     "evalue": "name 'dwave4' is not defined",
     "output_type": "error",
     "traceback": [
      "\u001b[0;31m---------------------------------------------------------------------------\u001b[0m",
      "\u001b[0;31mNameError\u001b[0m                                 Traceback (most recent call last)",
      "\u001b[0;32m/var/folders/41/txq0cr4j1kl0vqjl56x7l60w0000gp/T/ipykernel_54073/3934174778.py\u001b[0m in \u001b[0;36m<module>\u001b[0;34m\u001b[0m\n\u001b[1;32m      2\u001b[0m \u001b[0mwaveref_wowave2\u001b[0m \u001b[0;34m=\u001b[0m \u001b[0mdwaveref\u001b[0m\u001b[0;34m[\u001b[0m\u001b[0;34m~\u001b[0m\u001b[0mdwaveref\u001b[0m\u001b[0;34m[\u001b[0m\u001b[0;34m'date'\u001b[0m\u001b[0;34m]\u001b[0m\u001b[0;34m.\u001b[0m\u001b[0misin\u001b[0m\u001b[0;34m(\u001b[0m\u001b[0mdwave2\u001b[0m\u001b[0;34m[\u001b[0m\u001b[0;34m'date'\u001b[0m\u001b[0;34m]\u001b[0m\u001b[0;34m.\u001b[0m\u001b[0mtolist\u001b[0m\u001b[0;34m(\u001b[0m\u001b[0;34m)\u001b[0m\u001b[0;34m)\u001b[0m\u001b[0;34m]\u001b[0m\u001b[0;34m\u001b[0m\u001b[0;34m\u001b[0m\u001b[0m\n\u001b[1;32m      3\u001b[0m \u001b[0mwaveref_wowave3\u001b[0m \u001b[0;34m=\u001b[0m \u001b[0mdwaveref\u001b[0m\u001b[0;34m[\u001b[0m\u001b[0;34m~\u001b[0m\u001b[0mdwaveref\u001b[0m\u001b[0;34m[\u001b[0m\u001b[0;34m'date'\u001b[0m\u001b[0;34m]\u001b[0m\u001b[0;34m.\u001b[0m\u001b[0misin\u001b[0m\u001b[0;34m(\u001b[0m\u001b[0mdwave3\u001b[0m\u001b[0;34m[\u001b[0m\u001b[0;34m'date'\u001b[0m\u001b[0;34m]\u001b[0m\u001b[0;34m.\u001b[0m\u001b[0mtolist\u001b[0m\u001b[0;34m(\u001b[0m\u001b[0;34m)\u001b[0m\u001b[0;34m)\u001b[0m\u001b[0;34m]\u001b[0m\u001b[0;34m\u001b[0m\u001b[0;34m\u001b[0m\u001b[0m\n\u001b[0;32m----> 4\u001b[0;31m \u001b[0mwaveref_wowave4\u001b[0m \u001b[0;34m=\u001b[0m \u001b[0mdwaveref\u001b[0m\u001b[0;34m[\u001b[0m\u001b[0;34m~\u001b[0m\u001b[0mdwaveref\u001b[0m\u001b[0;34m[\u001b[0m\u001b[0;34m'date'\u001b[0m\u001b[0;34m]\u001b[0m\u001b[0;34m.\u001b[0m\u001b[0misin\u001b[0m\u001b[0;34m(\u001b[0m\u001b[0mdwave4\u001b[0m\u001b[0;34m[\u001b[0m\u001b[0;34m'date'\u001b[0m\u001b[0;34m]\u001b[0m\u001b[0;34m.\u001b[0m\u001b[0mtolist\u001b[0m\u001b[0;34m(\u001b[0m\u001b[0;34m)\u001b[0m\u001b[0;34m)\u001b[0m\u001b[0;34m]\u001b[0m\u001b[0;34m\u001b[0m\u001b[0;34m\u001b[0m\u001b[0m\n\u001b[0m\u001b[1;32m      5\u001b[0m \u001b[0;34m\u001b[0m\u001b[0m\n\u001b[1;32m      6\u001b[0m \u001b[0mwaverefonly\u001b[0m     \u001b[0;34m=\u001b[0m \u001b[0mdwaveref\u001b[0m\u001b[0;34m[\u001b[0m\u001b[0;34m~\u001b[0m\u001b[0mdwaveref\u001b[0m\u001b[0;34m[\u001b[0m\u001b[0;34m'date'\u001b[0m\u001b[0;34m]\u001b[0m\u001b[0;34m.\u001b[0m\u001b[0misin\u001b[0m\u001b[0;34m(\u001b[0m\u001b[0mdall\u001b[0m\u001b[0;34m[\u001b[0m\u001b[0;34m'date'\u001b[0m\u001b[0;34m]\u001b[0m\u001b[0;34m.\u001b[0m\u001b[0mtolist\u001b[0m\u001b[0;34m(\u001b[0m\u001b[0;34m)\u001b[0m\u001b[0;34m)\u001b[0m\u001b[0;34m]\u001b[0m\u001b[0;34m\u001b[0m\u001b[0;34m\u001b[0m\u001b[0m\n",
      "\u001b[0;31mNameError\u001b[0m: name 'dwave4' is not defined"
     ]
    }
   ],
   "source": [
    "waveref_wowave1 = dwaveref[~dwaveref['date'].isin(dwave1['date'].tolist())] \n",
    "waveref_wowave2 = dwaveref[~dwaveref['date'].isin(dwave2['date'].tolist())] \n",
    "waveref_wowave3 = dwaveref[~dwaveref['date'].isin(dwave3['date'].tolist())] \n",
    "waveref_wowave4 = dwaveref[~dwaveref['date'].isin(dwave4['date'].tolist())] \n",
    "\n",
    "waverefonly     = dwaveref[~dwaveref['date'].isin(dall['date'].tolist())]\n",
    "\n",
    "print(waverefonly['date'])\n",
    "# print(waveref_wowave1['date'])\n",
    "# waverefonly     = waverefonly[~waveref_wowave1['date'].tolist()]\n",
    "\n",
    "print(\"WAVEREF wet & wet w/o wave1 dry) n=\" +str(len(waveref_wowave2))+\" or \"+str(round(len(waveref_wowave2)*100/len(dwaveref['date']),2)) +\" %\")\n",
    "print(\"WAVEREF wet & wet w/o wave2 dry) n=\" +str(len(waveref_wowave3))+\" or \"+str(round(len(waveref_wowave3)*100/len(dwaveref['date']),2)) +\" %\")\n",
    "print(\"WAVEREF wet & wet only) n=\" +str(len(waverefonly))+\" or \"+str(round(len(waverefonly)*100/len(dwaveref['date']),2)) +\" %\")"
   ]
  },
  {
   "cell_type": "code",
   "execution_count": 23,
   "id": "e0529a93",
   "metadata": {},
   "outputs": [
    {
     "ename": "NameError",
     "evalue": "name 'waverefonly' is not defined",
     "output_type": "error",
     "traceback": [
      "\u001b[0;31m---------------------------------------------------------------------------\u001b[0m",
      "\u001b[0;31mNameError\u001b[0m                                 Traceback (most recent call last)",
      "\u001b[0;32m/var/folders/41/txq0cr4j1kl0vqjl56x7l60w0000gp/T/ipykernel_54073/561590875.py\u001b[0m in \u001b[0;36m<module>\u001b[0;34m\u001b[0m\n\u001b[0;32m----> 1\u001b[0;31m \u001b[0mwaverefonly\u001b[0m\u001b[0;34m[\u001b[0m\u001b[0;34m'date'\u001b[0m\u001b[0;34m]\u001b[0m\u001b[0;34m.\u001b[0m\u001b[0mto_csv\u001b[0m\u001b[0;34m(\u001b[0m\u001b[0mdiri2\u001b[0m\u001b[0;34m+\u001b[0m\u001b[0mfname\u001b[0m\u001b[0;34m,\u001b[0m\u001b[0mindex\u001b[0m\u001b[0;34m=\u001b[0m\u001b[0;32mFalse\u001b[0m\u001b[0;34m)\u001b[0m\u001b[0;34m\u001b[0m\u001b[0;34m\u001b[0m\u001b[0m\n\u001b[0m\u001b[1;32m      2\u001b[0m \u001b[0mwaveref_wowave1\u001b[0m\u001b[0;34m[\u001b[0m\u001b[0;34m'date'\u001b[0m\u001b[0;34m]\u001b[0m\u001b[0;34m.\u001b[0m\u001b[0mto_csv\u001b[0m\u001b[0;34m(\u001b[0m\u001b[0mdiri2\u001b[0m\u001b[0;34m+\u001b[0m\u001b[0mfwave_wo1\u001b[0m\u001b[0;34m,\u001b[0m\u001b[0mindex\u001b[0m\u001b[0;34m=\u001b[0m\u001b[0;32mFalse\u001b[0m\u001b[0;34m)\u001b[0m\u001b[0;34m\u001b[0m\u001b[0;34m\u001b[0m\u001b[0m\n\u001b[1;32m      3\u001b[0m \u001b[0mwaveref_wowave2\u001b[0m\u001b[0;34m[\u001b[0m\u001b[0;34m'date'\u001b[0m\u001b[0;34m]\u001b[0m\u001b[0;34m.\u001b[0m\u001b[0mto_csv\u001b[0m\u001b[0;34m(\u001b[0m\u001b[0mdiri2\u001b[0m\u001b[0;34m+\u001b[0m\u001b[0mfwave_wo2\u001b[0m\u001b[0;34m,\u001b[0m\u001b[0mindex\u001b[0m\u001b[0;34m=\u001b[0m\u001b[0;32mFalse\u001b[0m\u001b[0;34m)\u001b[0m\u001b[0;34m\u001b[0m\u001b[0;34m\u001b[0m\u001b[0m\n\u001b[1;32m      4\u001b[0m \u001b[0mwaveref_wowave3\u001b[0m\u001b[0;34m[\u001b[0m\u001b[0;34m'date'\u001b[0m\u001b[0;34m]\u001b[0m\u001b[0;34m.\u001b[0m\u001b[0mto_csv\u001b[0m\u001b[0;34m(\u001b[0m\u001b[0mdiri2\u001b[0m\u001b[0;34m+\u001b[0m\u001b[0mfwave_wo3\u001b[0m\u001b[0;34m,\u001b[0m\u001b[0mindex\u001b[0m\u001b[0;34m=\u001b[0m\u001b[0;32mFalse\u001b[0m\u001b[0;34m)\u001b[0m\u001b[0;34m\u001b[0m\u001b[0;34m\u001b[0m\u001b[0m\n\u001b[1;32m      5\u001b[0m \u001b[0mwaveref_wowave4\u001b[0m\u001b[0;34m[\u001b[0m\u001b[0;34m'date'\u001b[0m\u001b[0;34m]\u001b[0m\u001b[0;34m.\u001b[0m\u001b[0mto_csv\u001b[0m\u001b[0;34m(\u001b[0m\u001b[0mdiri2\u001b[0m\u001b[0;34m+\u001b[0m\u001b[0mfwave_wo4\u001b[0m\u001b[0;34m,\u001b[0m\u001b[0mindex\u001b[0m\u001b[0;34m=\u001b[0m\u001b[0;32mFalse\u001b[0m\u001b[0;34m)\u001b[0m\u001b[0;34m\u001b[0m\u001b[0;34m\u001b[0m\u001b[0m\n",
      "\u001b[0;31mNameError\u001b[0m: name 'waverefonly' is not defined"
     ]
    }
   ],
   "source": [
    "waverefonly['date'].to_csv(diri2+fname,index=False)\n",
    "waveref_wowave1['date'].to_csv(diri2+fwave_wo1,index=False)\n",
    "waveref_wowave2['date'].to_csv(diri2+fwave_wo2,index=False)\n",
    "waveref_wowave3['date'].to_csv(diri2+fwave_wo3,index=False)\n",
    "waveref_wowave4['date'].to_csv(diri2+fwave_wo4,index=False)"
   ]
  },
  {
   "cell_type": "code",
   "execution_count": 24,
   "id": "a8ddb83a",
   "metadata": {},
   "outputs": [
    {
     "name": "stdout",
     "output_type": "stream",
     "text": [
      "/bin/bash: ncl: command not found\r\n"
     ]
    }
   ],
   "source": [
    "!ncl 'fcsv=\"{diri2}{fname}\"' 'season=\"{seasmon}\"' 'code={code}' combined_rain_check.ncl > '/Users/fadhlilrizki/Documents/PhD/thesis/figures/misc/wavecheck_{fname}.txt'"
   ]
  },
  {
   "cell_type": "code",
   "execution_count": 25,
   "id": "b72f36f9",
   "metadata": {},
   "outputs": [
    {
     "name": "stdout",
     "output_type": "stream",
     "text": [
      "/bin/bash: ncl: command not found\r\n"
     ]
    }
   ],
   "source": [
    "!ncl 'fcsv=\"{diri2}{fwave_wo1}\"' 'season=\"{seasmon}\"' 'code={code}' combined_rain_check.ncl > '/Users/fadhlilrizki/Documents/PhD/thesis/figures/misc/wavecheck_{fwave_wo1}.txt'"
   ]
  },
  {
   "cell_type": "code",
   "execution_count": 26,
   "id": "85d5f0cc-f13f-45b1-92eb-e7c46417d5b1",
   "metadata": {},
   "outputs": [
    {
     "name": "stdout",
     "output_type": "stream",
     "text": [
      "/bin/bash: ncl: command not found\r\n"
     ]
    }
   ],
   "source": [
    "!ncl 'fcsv=\"{diri2}{fwave_wo2}\"' 'season=\"{seasmon}\"' 'code={code}' combined_rain_check.ncl > '/Users/fadhlilrizki/Documents/PhD/thesis/figures/misc/wavecheck_{fwave_wo2}.txt'"
   ]
  },
  {
   "cell_type": "code",
   "execution_count": 27,
   "id": "140722e1-392f-4069-afa1-ceb989bb412c",
   "metadata": {},
   "outputs": [
    {
     "name": "stdout",
     "output_type": "stream",
     "text": [
      "/bin/bash: ncl: command not found\r\n"
     ]
    }
   ],
   "source": [
    "!ncl 'fcsv=\"{diri2}{fwave_wo3}\"' 'season=\"{seasmon}\"' 'code={code}' combined_rain_check.ncl > '/Users/fadhlilrizki/Documents/PhD/thesis/figures/misc/wavecheck_{fwave_wo3}.txt'"
   ]
  },
  {
   "cell_type": "code",
   "execution_count": 28,
   "id": "30fa8920-85e0-46f0-81ab-6c1a49f01714",
   "metadata": {},
   "outputs": [
    {
     "name": "stdout",
     "output_type": "stream",
     "text": [
      "/bin/bash: ncl: command not found\r\n"
     ]
    }
   ],
   "source": [
    "!ncl 'fcsv=\"{diri2}{fwave_wo4}\"' 'season=\"{seasmon}\"' 'code={code}' combined_rain_check.ncl > '/Users/fadhlilrizki/Documents/PhD/thesis/figures/misc/wavecheck_{fwave_wo4}.txt'"
   ]
  },
  {
   "cell_type": "code",
   "execution_count": 29,
   "id": "0d7195ec-8fe8-4bfc-9f05-fadea4cf658d",
   "metadata": {},
   "outputs": [
    {
     "name": "stdout",
     "output_type": "stream",
     "text": [
      "/bin/bash: ncl: command not found\r\n"
     ]
    }
   ],
   "source": [
    "!ncl 'fcsv=\"{diri}{fref}\"' 'season=\"{seasmon}\"' 'code={code}' combined_rain_check.ncl > '/Users/fadhlilrizki/Documents/PhD/thesis/figures/misc/wavecheck_{fref}.txt'"
   ]
  },
  {
   "cell_type": "code",
   "execution_count": 75,
   "id": "074fd16d-2884-491a-b1ac-767deb6838af",
   "metadata": {},
   "outputs": [
    {
     "data": {
      "text/plain": [
       "'mjo_mjo_wetwet_womrgdry_CY_djf.csv'"
      ]
     },
     "execution_count": 75,
     "metadata": {},
     "output_type": "execute_result"
    }
   ],
   "source": [
    "fwave_wo2"
   ]
  },
  {
   "cell_type": "code",
   "execution_count": null,
   "id": "fa44b05e-8f71-4f83-9933-3ad585af91bd",
   "metadata": {},
   "outputs": [],
   "source": []
  }
 ],
 "metadata": {
  "kernelspec": {
   "display_name": "Python 3 (ipykernel)",
   "language": "python",
   "name": "python3"
  },
  "language_info": {
   "codemirror_mode": {
    "name": "ipython",
    "version": 3
   },
   "file_extension": ".py",
   "mimetype": "text/x-python",
   "name": "python",
   "nbconvert_exporter": "python",
   "pygments_lexer": "ipython3",
   "version": "3.9.13"
  }
 },
 "nbformat": 4,
 "nbformat_minor": 5
}
