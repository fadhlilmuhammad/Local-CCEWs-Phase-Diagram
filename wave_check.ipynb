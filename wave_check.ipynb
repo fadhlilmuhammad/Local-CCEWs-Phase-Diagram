{
 "cells": [
  {
   "cell_type": "code",
   "execution_count": 81,
   "id": "8d5f9f25",
   "metadata": {},
   "outputs": [],
   "source": [
    "import pandas as pd\n",
    "import numpy as np"
   ]
  },
  {
   "cell_type": "code",
   "execution_count": 82,
   "id": "804e50f4",
   "metadata": {},
   "outputs": [],
   "source": [
    "diri = \"/Users/fadhlilrizki/Documents/PhD/thesis/dataout/local_wave_phase/combined_wave/\"\n",
    "diri2 = diri+\"check/\""
   ]
  },
  {
   "cell_type": "code",
   "execution_count": 125,
   "id": "d6cf720f-f0c5-44d6-b181-12d250da01d7",
   "metadata": {},
   "outputs": [],
   "source": [
    "seasmon = 'djf'\n",
    "code = 0\n",
    "\n",
    "regioncode = [\"TE\", \"CY\", \"KY\", \"QL\",\"EC\"]\n",
    "region = regioncode[code]\n",
    "\n",
    "wave1 = \"mrg\"\n",
    "cond1 = \"dry\"\n",
    "\n",
    "wave2 = \"td\"\n",
    "cond2 = \"wet\"\n",
    "\n",
    "wave_destruct1 = \"mjo\"\n",
    "cond_destruct1 = \"wet\"\n",
    "\n",
    "wave_destruct2 = \"er\"\n",
    "cond_destruct2 = \"wet\""
   ]
  },
  {
   "cell_type": "code",
   "execution_count": 126,
   "id": "b184b457",
   "metadata": {},
   "outputs": [],
   "source": [
    "fref = wave1+\"_\"+wave2+\"_\"+cond1+cond2+\"_\"+region+\"_\"+seasmon+\".csv\"\n",
    "\n",
    "#wave_penganggu\n",
    "fwave2 = wave_destruct1+\"_\"+wave_destruct1+\"_\"+cond_destruct1+cond_destruct1+\"_\"+region+\"_\"+seasmon+\".csv\"\n",
    "fwave3 = wave_destruct2+\"_\"+wave_destruct2+\"_\"+cond_destruct1+cond_destruct1+\"_\"+region+\"_\"+seasmon+\".csv\"\n",
    "# fwave4 = \"er_er_wetwet_EC_djf.csv\"\n",
    "\n",
    "fname  = wave1+\"_\"+wave2+\"_only_\"+region+\"_\"+seasmon+\".csv\"\n",
    "\n",
    "fwave_wo2 = wave1+\"_\"+wave2+\"_\"+cond1+cond2+\"_\"+wave_destruct1+cond_destruct1+\"_\"+region+\"_\"+seasmon+\".csv\"\n",
    "fwave_wo3 = wave1+\"_\"+wave2+\"_\"+cond1+cond2+\"_\"+wave_destruct2+cond_destruct2+\"_\"+region+\"_\"+seasmon+\".csv\"\n",
    "# fmjo   = \"mjo_mjo_wetwet_EC_djf.csv\""
   ]
  },
  {
   "cell_type": "code",
   "execution_count": 127,
   "id": "01514293",
   "metadata": {},
   "outputs": [],
   "source": [
    "# frmm  = \"rmm_index.txt\""
   ]
  },
  {
   "cell_type": "code",
   "execution_count": 128,
   "id": "0d0c1d36",
   "metadata": {},
   "outputs": [],
   "source": [
    "dwaveref = pd.read_csv(diri+fref)\n",
    "dwaveref['date'] = dwaveref['date'].astype('str')\n",
    "\n",
    "dwave2 = pd.read_csv(diri+fwave2)\n",
    "dwave2['date'] = dwave2['date'].astype('str')\n",
    "\n",
    "dwave3 = pd.read_csv(diri+fwave3)\n",
    "dwave3['date'] = dwave3['date'].astype('str')\n",
    "\n",
    "dall   = pd.concat([dwave2,dwave3])\n",
    "# dwave4 = pd.read_csv(diri+fwave4)\n",
    "# dwave4['date'] = dwave4['date'].astype('str')\n",
    "# dwave4"
   ]
  },
  {
   "cell_type": "code",
   "execution_count": 129,
   "id": "372f9200",
   "metadata": {},
   "outputs": [],
   "source": [
    "# dmjo  = pd.read_csv(diri+fmjo)\n",
    "# dmjo['date'] = dmjo['date'].astype('str')\n",
    "\n",
    "# print(\"printing lists in new line\")\n",
    " \n",
    "# print(*dmjo['date'], sep = \"\\n\")"
   ]
  },
  {
   "cell_type": "code",
   "execution_count": 130,
   "id": "ae4dad57",
   "metadata": {},
   "outputs": [
    {
     "data": {
      "text/html": [
       "<div>\n",
       "<style scoped>\n",
       "    .dataframe tbody tr th:only-of-type {\n",
       "        vertical-align: middle;\n",
       "    }\n",
       "\n",
       "    .dataframe tbody tr th {\n",
       "        vertical-align: top;\n",
       "    }\n",
       "\n",
       "    .dataframe thead th {\n",
       "        text-align: right;\n",
       "    }\n",
       "</style>\n",
       "<table border=\"1\" class=\"dataframe\">\n",
       "  <thead>\n",
       "    <tr style=\"text-align: right;\">\n",
       "      <th></th>\n",
       "      <th>date</th>\n",
       "    </tr>\n",
       "  </thead>\n",
       "  <tbody>\n",
       "    <tr>\n",
       "      <th>0</th>\n",
       "      <td>19810108</td>\n",
       "    </tr>\n",
       "    <tr>\n",
       "      <th>1</th>\n",
       "      <td>19810206</td>\n",
       "    </tr>\n",
       "    <tr>\n",
       "      <th>2</th>\n",
       "      <td>19810220</td>\n",
       "    </tr>\n",
       "    <tr>\n",
       "      <th>3</th>\n",
       "      <td>19810221</td>\n",
       "    </tr>\n",
       "    <tr>\n",
       "      <th>4</th>\n",
       "      <td>19811228</td>\n",
       "    </tr>\n",
       "    <tr>\n",
       "      <th>...</th>\n",
       "      <td>...</td>\n",
       "    </tr>\n",
       "    <tr>\n",
       "      <th>96</th>\n",
       "      <td>20171231</td>\n",
       "    </tr>\n",
       "    <tr>\n",
       "      <th>97</th>\n",
       "      <td>20180108</td>\n",
       "    </tr>\n",
       "    <tr>\n",
       "      <th>98</th>\n",
       "      <td>20180117</td>\n",
       "    </tr>\n",
       "    <tr>\n",
       "      <th>99</th>\n",
       "      <td>20180119</td>\n",
       "    </tr>\n",
       "    <tr>\n",
       "      <th>100</th>\n",
       "      <td>20180223</td>\n",
       "    </tr>\n",
       "  </tbody>\n",
       "</table>\n",
       "<p>101 rows × 1 columns</p>\n",
       "</div>"
      ],
      "text/plain": [
       "         date\n",
       "0    19810108\n",
       "1    19810206\n",
       "2    19810220\n",
       "3    19810221\n",
       "4    19811228\n",
       "..        ...\n",
       "96   20171231\n",
       "97   20180108\n",
       "98   20180117\n",
       "99   20180119\n",
       "100  20180223\n",
       "\n",
       "[101 rows x 1 columns]"
      ]
     },
     "execution_count": 130,
     "metadata": {},
     "output_type": "execute_result"
    }
   ],
   "source": [
    "# mjo_er_dry  = dmjo[dmjo['date'].isin(dwave2['date'].tolist())]\n",
    "# mjo_mrg_dry = dmjo[dmjo['date'].isin(dwave3['date'].tolist())]\n",
    "# mjo_mrg_dry_without_er = mjo_mrg_dry[~mjo_mrg_dry['date'].isin(dwave4['date'].tolist())]\n",
    "\n",
    "\n",
    "# mjo_mrg_dry_without_er\n",
    "dwaveref"
   ]
  },
  {
   "cell_type": "code",
   "execution_count": 131,
   "id": "f87075b8",
   "metadata": {},
   "outputs": [
    {
     "name": "stdout",
     "output_type": "stream",
     "text": [
      "WAVEREF wet & wet w/o wave1 dry) n=70 or 69.31 %\n",
      "WAVEREF wet & wet w/o wave2 dry) n=67 or 66.34 %\n",
      "WAVEREF wet & wet only) n=49 or 48.51 %\n"
     ]
    }
   ],
   "source": [
    "\n",
    "waveref_wowave2 = dwaveref[~dwaveref['date'].isin(dwave2['date'].tolist())] \n",
    "waveref_wowave3 = dwaveref[~dwaveref['date'].isin(dwave3['date'].tolist())] \n",
    "\n",
    "waverefonly     = dwaveref[~dwaveref['date'].isin(dall['date'].tolist())]\n",
    "\n",
    "print(\"WAVEREF wet & wet w/o wave1 dry) n=\" +str(len(waveref_wowave2))+\" or \"+str(round(len(waveref_wowave2)*100/len(dwaveref['date']),2)) +\" %\")\n",
    "print(\"WAVEREF wet & wet w/o wave2 dry) n=\" +str(len(waveref_wowave3))+\" or \"+str(round(len(waveref_wowave3)*100/len(dwaveref['date']),2)) +\" %\")\n",
    "print(\"WAVEREF wet & wet only) n=\" +str(len(waverefonly))+\" or \"+str(round(len(waverefonly)*100/len(dwaveref['date']),2)) +\" %\")"
   ]
  },
  {
   "cell_type": "code",
   "execution_count": 132,
   "id": "e0529a93",
   "metadata": {},
   "outputs": [],
   "source": [
    "waverefonly['date'].to_csv(diri2+fname,index=False)\n",
    "waveref_wowave2['date'].to_csv(diri2+fwave_wo2,index=False)\n",
    "waveref_wowave3['date'].to_csv(diri2+fwave_wo3,index=False)"
   ]
  },
  {
   "cell_type": "code",
   "execution_count": 133,
   "id": "a8ddb83a",
   "metadata": {},
   "outputs": [],
   "source": [
    "!ncl 'fcsv=\"{diri2}{fname}\"' 'season=\"{seasmon}\"' 'code={code}' combined_rain_check.ncl > '/Users/fadhlilrizki/Documents/PhD/thesis/figures/misc/wavecheck_{fname}.txt'"
   ]
  },
  {
   "cell_type": "code",
   "execution_count": 134,
   "id": "b72f36f9",
   "metadata": {},
   "outputs": [],
   "source": [
    "!ncl 'fcsv=\"{diri2}{fwave_wo2}\"' 'season=\"{seasmon}\"' 'code={code}' combined_rain_check.ncl > '/Users/fadhlilrizki/Documents/PhD/thesis/figures/misc/wavecheck_{fwave_wo2}.txt'"
   ]
  },
  {
   "cell_type": "code",
   "execution_count": 135,
   "id": "140722e1-392f-4069-afa1-ceb989bb412c",
   "metadata": {},
   "outputs": [],
   "source": [
    "!ncl 'fcsv=\"{diri2}{fwave_wo3}\"' 'season=\"{seasmon}\"' 'code={code}' combined_rain_check.ncl > '/Users/fadhlilrizki/Documents/PhD/thesis/figures/misc/wavecheck_{fwave_wo3}.txt'"
   ]
  },
  {
   "cell_type": "code",
   "execution_count": 136,
   "id": "0d7195ec-8fe8-4bfc-9f05-fadea4cf658d",
   "metadata": {},
   "outputs": [],
   "source": [
    "!ncl 'fcsv=\"{diri}{fref}\"' 'season=\"{seasmon}\"' 'code={code}' combined_rain_check.ncl > '/Users/fadhlilrizki/Documents/PhD/thesis/figures/misc/wavecheck_{fref}.txt'"
   ]
  },
  {
   "cell_type": "code",
   "execution_count": 124,
   "id": "074fd16d-2884-491a-b1ac-767deb6838af",
   "metadata": {},
   "outputs": [
    {
     "data": {
      "text/plain": [
       "'mrg_td_drywet_mjowet_CY_djf.csv'"
      ]
     },
     "execution_count": 124,
     "metadata": {},
     "output_type": "execute_result"
    }
   ],
   "source": [
    "fwave_wo2"
   ]
  },
  {
   "cell_type": "code",
   "execution_count": null,
   "id": "fa44b05e-8f71-4f83-9933-3ad585af91bd",
   "metadata": {},
   "outputs": [],
   "source": []
  },
  {
   "cell_type": "code",
   "execution_count": null,
   "id": "93659b7a-7cca-413e-b7d3-e96d0dd15417",
   "metadata": {},
   "outputs": [],
   "source": []
  }
 ],
 "metadata": {
  "kernelspec": {
   "display_name": "Python 3 (ipykernel)",
   "language": "python",
   "name": "python3"
  },
  "language_info": {
   "codemirror_mode": {
    "name": "ipython",
    "version": 3
   },
   "file_extension": ".py",
   "mimetype": "text/x-python",
   "name": "python",
   "nbconvert_exporter": "python",
   "pygments_lexer": "ipython3",
   "version": "3.11.0"
  }
 },
 "nbformat": 4,
 "nbformat_minor": 5
}
