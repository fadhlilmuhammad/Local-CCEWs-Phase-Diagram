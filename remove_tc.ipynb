{
 "cells": [
  {
   "cell_type": "code",
   "execution_count": 13,
   "id": "0bb0a6e3",
   "metadata": {},
   "outputs": [],
   "source": [
    "import xarray as xr\n",
    "import pandas as pd\n",
    "import numpy as np"
   ]
  },
  {
   "cell_type": "code",
   "execution_count": 14,
   "id": "8848b0a4",
   "metadata": {},
   "outputs": [],
   "source": [
    "diri = \"/Users/fadhlilrizki/Documents/PhD/thesis/dataout/local_wave_phase/\"\n",
    "diro = \"/Users/fadhlilrizki/Documents/PhD/thesis/dataout/local_wave_phase/combined_wave/\""
   ]
  },
  {
   "cell_type": "code",
   "execution_count": 15,
   "id": "471dffee",
   "metadata": {},
   "outputs": [],
   "source": [
    "season = \"SHAutumn\""
   ]
  },
  {
   "cell_type": "code",
   "execution_count": 16,
   "id": "79ae55e8",
   "metadata": {},
   "outputs": [],
   "source": [
    "fw_1 = \"local_er_phase_\"+season+\".133.nc\"\n",
    "fw_2 = \"local_kelvin_phase_\"+season+\".133.nc\"\n",
    "fw_3 = \"local_mrg_phase_\"+season+\".133.nc\"\n",
    "fw_4 = \"local_td_phase_\"+season+\".133.nc\"\n",
    "fw_5 = \"local_mjo_phase_\"+season+\".133.nc\""
   ]
  },
  {
   "cell_type": "code",
   "execution_count": 17,
   "id": "eb03ad2a",
   "metadata": {},
   "outputs": [],
   "source": [
    "dw_1 = xr.open_dataset(diri+fw_1)\n",
    "dw_2 = xr.open_dataset(diri+fw_2)\n",
    "dw_3 = xr.open_dataset(diri+fw_3)\n",
    "dw_4 = xr.open_dataset(diri+fw_4)\n",
    "dw_5 = xr.open_dataset(diri+fw_5)"
   ]
  },
  {
   "cell_type": "code",
   "execution_count": 18,
   "id": "6cb56a6b",
   "metadata": {},
   "outputs": [],
   "source": [
    "dw_1 = dw_1.sel(time=slice(\"1981-01-01\",\"2018-12-31\"))\n",
    "dw_2 = dw_2.sel(time=slice(\"1981-01-01\",\"2018-12-31\"))\n",
    "dw_3 = dw_3.sel(time=slice(\"1981-01-01\",\"2018-12-31\"))\n",
    "dw_4 = dw_4.sel(time=slice(\"1981-01-01\",\"2018-12-31\"))\n",
    "dw_5 = dw_5.sel(time=slice(\"1981-01-01\",\"2018-12-31\"))"
   ]
  },
  {
   "cell_type": "code",
   "execution_count": 19,
   "id": "d255b6c7",
   "metadata": {},
   "outputs": [],
   "source": [
    "tc   = pd.read_csv('/Users/fadhlilrizki/Documents/PhD/thesis/data/TC_dates.csv',\n",
    "                   usecols=[\"0\"], parse_dates=[\"0\"])"
   ]
  },
  {
   "cell_type": "code",
   "execution_count": 20,
   "id": "a56e5090",
   "metadata": {},
   "outputs": [],
   "source": [
    "tc_da = xr.DataArray(tc)\n",
    "er         = xr.where(~dw_1['time'].isin(tc_da), dw_1, np.nan).dropna(dim='time')\n",
    "mrg        = xr.where(~dw_3['time'].isin(tc_da), dw_3, np.nan).dropna(dim='time')\n",
    "kelvin     = xr.where(~dw_2['time'].isin(tc_da), dw_2, np.nan).dropna(dim='time')\n",
    "td         = xr.where(~dw_4['time'].isin(tc_da), dw_4, np.nan).dropna(dim='time')\n",
    "mjo        = xr.where(~dw_5['time'].isin(tc_da), dw_5, np.nan).dropna(dim='time')\n",
    "\n"
   ]
  },
  {
   "cell_type": "code",
   "execution_count": 21,
   "id": "fea98833",
   "metadata": {},
   "outputs": [],
   "source": [
    "er.to_netcdf(diri+\"local_er_phase_\"+season+\".133.\"+\".noTC.nc\")\n",
    "mrg.to_netcdf(diri+\"local_mrg_phase_\"+season+\".133.\"+\".noTC.nc\")\n",
    "kelvin.to_netcdf(diri+\"local_kelvin_phase_\"+season+\".133.\"+\".noTC.nc\")\n",
    "td.to_netcdf(diri+\"local_td_phase_\"+season+\".133.\"+\".noTC.nc\")\n",
    "mjo.to_netcdf(diri+\"local_mjo_phase_\"+season+\".133.\"+\".noTC.nc\")\n"
   ]
  },
  {
   "cell_type": "code",
   "execution_count": null,
   "id": "ba6398a8",
   "metadata": {},
   "outputs": [],
   "source": []
  }
 ],
 "metadata": {
  "kernelspec": {
   "display_name": "Python 3 (ipykernel)",
   "language": "python",
   "name": "python3"
  },
  "language_info": {
   "codemirror_mode": {
    "name": "ipython",
    "version": 3
   },
   "file_extension": ".py",
   "mimetype": "text/x-python",
   "name": "python",
   "nbconvert_exporter": "python",
   "pygments_lexer": "ipython3",
   "version": "3.9.13"
  }
 },
 "nbformat": 4,
 "nbformat_minor": 5
}
