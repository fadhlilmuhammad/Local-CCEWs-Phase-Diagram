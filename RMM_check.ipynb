{
 "cells": [
  {
   "cell_type": "code",
   "execution_count": 3,
   "id": "8d5f9f25",
   "metadata": {},
   "outputs": [],
   "source": [
    "import pandas as pd\n",
    "import numpy as np"
   ]
  },
  {
   "cell_type": "code",
   "execution_count": 4,
   "id": "804e50f4",
   "metadata": {},
   "outputs": [],
   "source": [
    "diri = \"/Users/fadhlilrizki/Documents/PhD/thesis/dataout/local_wave_phase/combined_wave/\""
   ]
  },
  {
   "cell_type": "code",
   "execution_count": 167,
   "id": "b184b457",
   "metadata": {},
   "outputs": [],
   "source": [
    "fwave = \"mrg_mjo_drywet_TE_mam.csv\"\n",
    "fmjo  = \"mjo_mjo_wetwet_TE_mam.csv\""
   ]
  },
  {
   "cell_type": "code",
   "execution_count": 168,
   "id": "01514293",
   "metadata": {},
   "outputs": [],
   "source": [
    "frmm  = \"rmm_index.txt\""
   ]
  },
  {
   "cell_type": "code",
   "execution_count": 169,
   "id": "0d0c1d36",
   "metadata": {},
   "outputs": [],
   "source": [
    "dwave = pd.read_csv(diri+fwave)\n",
    "dwave['date'] = dwave['date'].astype('str')\n"
   ]
  },
  {
   "cell_type": "code",
   "execution_count": 170,
   "id": "372f9200",
   "metadata": {},
   "outputs": [],
   "source": [
    "dmjo  = pd.read_csv(diri+fmjo)\n",
    "dmjo['date'] = dmjo['date'].astype('str')\n"
   ]
  },
  {
   "cell_type": "code",
   "execution_count": 171,
   "id": "dc327b6b",
   "metadata": {},
   "outputs": [],
   "source": [
    "drmm = pd.read_csv(diri+frmm, sep='\\s+')\n"
   ]
  },
  {
   "cell_type": "code",
   "execution_count": 172,
   "id": "1f8396dc",
   "metadata": {},
   "outputs": [],
   "source": [
    "df_rmm = drmm[[\"phase\",\"amplitude\"]]"
   ]
  },
  {
   "cell_type": "code",
   "execution_count": 173,
   "id": "31e4a505",
   "metadata": {},
   "outputs": [
    {
     "data": {
      "text/plain": [
       "0        19740601\n",
       "1        19740602\n",
       "2        19740603\n",
       "3        19740604\n",
       "4        19740605\n",
       "           ...   \n",
       "17953    20230727\n",
       "17954    20230728\n",
       "17955    20230729\n",
       "17956    20230730\n",
       "17957    20230731\n",
       "Length: 17958, dtype: object"
      ]
     },
     "execution_count": 173,
     "metadata": {},
     "output_type": "execute_result"
    }
   ],
   "source": [
    "\n",
    "rmm_date = pd.to_datetime(dict(year=drmm.year, month=drmm.month, day=drmm.day),format='%Y%m%d' ).dt.strftime('%Y%m%d')\n",
    "rmm_date"
   ]
  },
  {
   "cell_type": "code",
   "execution_count": 174,
   "id": "6d9e9112",
   "metadata": {},
   "outputs": [
    {
     "name": "stderr",
     "output_type": "stream",
     "text": [
      "/var/folders/41/txq0cr4j1kl0vqjl56x7l60w0000gp/T/ipykernel_2203/2388093420.py:1: SettingWithCopyWarning: \n",
      "A value is trying to be set on a copy of a slice from a DataFrame.\n",
      "Try using .loc[row_indexer,col_indexer] = value instead\n",
      "\n",
      "See the caveats in the documentation: https://pandas.pydata.org/pandas-docs/stable/user_guide/indexing.html#returning-a-view-versus-a-copy\n",
      "  df_rmm['date'] = rmm_date\n",
      "/var/folders/41/txq0cr4j1kl0vqjl56x7l60w0000gp/T/ipykernel_2203/2388093420.py:2: SettingWithCopyWarning: \n",
      "A value is trying to be set on a copy of a slice from a DataFrame.\n",
      "Try using .loc[row_indexer,col_indexer] = value instead\n",
      "\n",
      "See the caveats in the documentation: https://pandas.pydata.org/pandas-docs/stable/user_guide/indexing.html#returning-a-view-versus-a-copy\n",
      "  df_rmm['date'] = df_rmm['date'].astype('str')\n"
     ]
    }
   ],
   "source": [
    "df_rmm['date'] = rmm_date\n",
    "df_rmm['date'] = df_rmm['date'].astype('str')"
   ]
  },
  {
   "cell_type": "code",
   "execution_count": 175,
   "id": "66811dbe",
   "metadata": {},
   "outputs": [
    {
     "data": {
      "text/plain": [
       "0        19740601\n",
       "1        19740602\n",
       "2        19740603\n",
       "3        19740604\n",
       "4        19740605\n",
       "           ...   \n",
       "17953    20230727\n",
       "17954    20230728\n",
       "17955    20230729\n",
       "17956    20230730\n",
       "17957    20230731\n",
       "Name: date, Length: 17958, dtype: object"
      ]
     },
     "execution_count": 175,
     "metadata": {},
     "output_type": "execute_result"
    }
   ],
   "source": [
    "df_rmm['date']"
   ]
  },
  {
   "cell_type": "code",
   "execution_count": 176,
   "id": "ae4dad57",
   "metadata": {},
   "outputs": [],
   "source": [
    "mjo_amp = df_rmm[df_rmm['date'].isin(dmjo['date'].tolist())]"
   ]
  },
  {
   "cell_type": "code",
   "execution_count": 177,
   "id": "f87b4dd4",
   "metadata": {},
   "outputs": [
    {
     "data": {
      "text/html": [
       "<div>\n",
       "<style scoped>\n",
       "    .dataframe tbody tr th:only-of-type {\n",
       "        vertical-align: middle;\n",
       "    }\n",
       "\n",
       "    .dataframe tbody tr th {\n",
       "        vertical-align: top;\n",
       "    }\n",
       "\n",
       "    .dataframe thead th {\n",
       "        text-align: right;\n",
       "    }\n",
       "</style>\n",
       "<table border=\"1\" class=\"dataframe\">\n",
       "  <thead>\n",
       "    <tr style=\"text-align: right;\">\n",
       "      <th></th>\n",
       "      <th>phase</th>\n",
       "      <th>amplitude</th>\n",
       "      <th>date</th>\n",
       "    </tr>\n",
       "  </thead>\n",
       "  <tbody>\n",
       "    <tr>\n",
       "      <th>2491</th>\n",
       "      <td>3</td>\n",
       "      <td>3.037740</td>\n",
       "      <td>19810327</td>\n",
       "    </tr>\n",
       "    <tr>\n",
       "      <th>2492</th>\n",
       "      <td>3</td>\n",
       "      <td>3.169880</td>\n",
       "      <td>19810328</td>\n",
       "    </tr>\n",
       "    <tr>\n",
       "      <th>2493</th>\n",
       "      <td>3</td>\n",
       "      <td>2.977630</td>\n",
       "      <td>19810329</td>\n",
       "    </tr>\n",
       "    <tr>\n",
       "      <th>2511</th>\n",
       "      <td>7</td>\n",
       "      <td>1.114170</td>\n",
       "      <td>19810416</td>\n",
       "    </tr>\n",
       "    <tr>\n",
       "      <th>2512</th>\n",
       "      <td>7</td>\n",
       "      <td>1.003000</td>\n",
       "      <td>19810417</td>\n",
       "    </tr>\n",
       "    <tr>\n",
       "      <th>...</th>\n",
       "      <td>...</td>\n",
       "      <td>...</td>\n",
       "      <td>...</td>\n",
       "    </tr>\n",
       "    <tr>\n",
       "      <th>16053</th>\n",
       "      <td>1</td>\n",
       "      <td>2.192978</td>\n",
       "      <td>20180514</td>\n",
       "    </tr>\n",
       "    <tr>\n",
       "      <th>16054</th>\n",
       "      <td>1</td>\n",
       "      <td>1.937339</td>\n",
       "      <td>20180515</td>\n",
       "    </tr>\n",
       "    <tr>\n",
       "      <th>16055</th>\n",
       "      <td>2</td>\n",
       "      <td>1.801545</td>\n",
       "      <td>20180516</td>\n",
       "    </tr>\n",
       "    <tr>\n",
       "      <th>16056</th>\n",
       "      <td>2</td>\n",
       "      <td>1.852133</td>\n",
       "      <td>20180517</td>\n",
       "    </tr>\n",
       "    <tr>\n",
       "      <th>16057</th>\n",
       "      <td>2</td>\n",
       "      <td>1.909765</td>\n",
       "      <td>20180518</td>\n",
       "    </tr>\n",
       "  </tbody>\n",
       "</table>\n",
       "<p>280 rows × 3 columns</p>\n",
       "</div>"
      ],
      "text/plain": [
       "       phase  amplitude      date\n",
       "2491       3   3.037740  19810327\n",
       "2492       3   3.169880  19810328\n",
       "2493       3   2.977630  19810329\n",
       "2511       7   1.114170  19810416\n",
       "2512       7   1.003000  19810417\n",
       "...      ...        ...       ...\n",
       "16053      1   2.192978  20180514\n",
       "16054      1   1.937339  20180515\n",
       "16055      2   1.801545  20180516\n",
       "16056      2   1.852133  20180517\n",
       "16057      2   1.909765  20180518\n",
       "\n",
       "[280 rows x 3 columns]"
      ]
     },
     "execution_count": 177,
     "metadata": {},
     "output_type": "execute_result"
    }
   ],
   "source": [
    "mjo_amp"
   ]
  },
  {
   "cell_type": "code",
   "execution_count": 188,
   "id": "be675781",
   "metadata": {},
   "outputs": [
    {
     "name": "stdout",
     "output_type": "stream",
     "text": [
      "1.448183831364286\n"
     ]
    }
   ],
   "source": [
    "mjo_amp_mean = mjo_amp['amplitude'].mean()\n",
    "print(mjo_amp_mean)"
   ]
  },
  {
   "cell_type": "code",
   "execution_count": 186,
   "id": "ff448f06",
   "metadata": {},
   "outputs": [
    {
     "name": "stdout",
     "output_type": "stream",
     "text": [
      "       amplitude\n",
      "phase           \n",
      "1       1.125598\n",
      "2       1.128291\n",
      "3       1.369788\n",
      "4       1.492330\n",
      "5       1.318750\n",
      "6       1.662600\n",
      "7       1.114170\n",
      "8       1.073575\n"
     ]
    }
   ],
   "source": [
    "mean_perphase = mjo_amp.groupby(['phase']).median()\n",
    "print(mean_perphase)"
   ]
  },
  {
   "cell_type": "code",
   "execution_count": 180,
   "id": "594faad9",
   "metadata": {},
   "outputs": [
    {
     "data": {
      "text/html": [
       "<div>\n",
       "<style scoped>\n",
       "    .dataframe tbody tr th:only-of-type {\n",
       "        vertical-align: middle;\n",
       "    }\n",
       "\n",
       "    .dataframe tbody tr th {\n",
       "        vertical-align: top;\n",
       "    }\n",
       "\n",
       "    .dataframe thead th {\n",
       "        text-align: right;\n",
       "    }\n",
       "</style>\n",
       "<table border=\"1\" class=\"dataframe\">\n",
       "  <thead>\n",
       "    <tr style=\"text-align: right;\">\n",
       "      <th></th>\n",
       "      <th>phase</th>\n",
       "      <th>amplitude</th>\n",
       "      <th>date</th>\n",
       "    </tr>\n",
       "  </thead>\n",
       "  <tbody>\n",
       "    <tr>\n",
       "      <th>2493</th>\n",
       "      <td>3</td>\n",
       "      <td>2.977630</td>\n",
       "      <td>19810329</td>\n",
       "    </tr>\n",
       "    <tr>\n",
       "      <th>2838</th>\n",
       "      <td>2</td>\n",
       "      <td>0.490424</td>\n",
       "      <td>19820309</td>\n",
       "    </tr>\n",
       "    <tr>\n",
       "      <th>2896</th>\n",
       "      <td>6</td>\n",
       "      <td>0.650377</td>\n",
       "      <td>19820506</td>\n",
       "    </tr>\n",
       "    <tr>\n",
       "      <th>6892</th>\n",
       "      <td>8</td>\n",
       "      <td>1.054810</td>\n",
       "      <td>19930414</td>\n",
       "    </tr>\n",
       "    <tr>\n",
       "      <th>7254</th>\n",
       "      <td>7</td>\n",
       "      <td>0.481206</td>\n",
       "      <td>19940411</td>\n",
       "    </tr>\n",
       "    <tr>\n",
       "      <th>7986</th>\n",
       "      <td>6</td>\n",
       "      <td>0.491808</td>\n",
       "      <td>19960412</td>\n",
       "    </tr>\n",
       "    <tr>\n",
       "      <th>8677</th>\n",
       "      <td>7</td>\n",
       "      <td>0.722195</td>\n",
       "      <td>19980304</td>\n",
       "    </tr>\n",
       "    <tr>\n",
       "      <th>8726</th>\n",
       "      <td>6</td>\n",
       "      <td>0.866281</td>\n",
       "      <td>19980422</td>\n",
       "    </tr>\n",
       "    <tr>\n",
       "      <th>9083</th>\n",
       "      <td>4</td>\n",
       "      <td>1.570950</td>\n",
       "      <td>19990414</td>\n",
       "    </tr>\n",
       "    <tr>\n",
       "      <th>9457</th>\n",
       "      <td>5</td>\n",
       "      <td>0.992549</td>\n",
       "      <td>20000422</td>\n",
       "    </tr>\n",
       "    <tr>\n",
       "      <th>10180</th>\n",
       "      <td>3</td>\n",
       "      <td>1.221280</td>\n",
       "      <td>20020415</td>\n",
       "    </tr>\n",
       "    <tr>\n",
       "      <th>10504</th>\n",
       "      <td>5</td>\n",
       "      <td>1.384864</td>\n",
       "      <td>20030305</td>\n",
       "    </tr>\n",
       "    <tr>\n",
       "      <th>10577</th>\n",
       "      <td>6</td>\n",
       "      <td>2.818886</td>\n",
       "      <td>20030517</td>\n",
       "    </tr>\n",
       "    <tr>\n",
       "      <th>10931</th>\n",
       "      <td>3</td>\n",
       "      <td>2.508305</td>\n",
       "      <td>20040505</td>\n",
       "    </tr>\n",
       "    <tr>\n",
       "      <th>11299</th>\n",
       "      <td>4</td>\n",
       "      <td>2.834411</td>\n",
       "      <td>20050508</td>\n",
       "    </tr>\n",
       "    <tr>\n",
       "      <th>11980</th>\n",
       "      <td>5</td>\n",
       "      <td>0.957608</td>\n",
       "      <td>20070320</td>\n",
       "    </tr>\n",
       "    <tr>\n",
       "      <th>12699</th>\n",
       "      <td>5</td>\n",
       "      <td>0.369856</td>\n",
       "      <td>20090308</td>\n",
       "    </tr>\n",
       "    <tr>\n",
       "      <th>13455</th>\n",
       "      <td>6</td>\n",
       "      <td>1.821899</td>\n",
       "      <td>20110403</td>\n",
       "    </tr>\n",
       "    <tr>\n",
       "      <th>13807</th>\n",
       "      <td>6</td>\n",
       "      <td>3.306114</td>\n",
       "      <td>20120320</td>\n",
       "    </tr>\n",
       "    <tr>\n",
       "      <th>14892</th>\n",
       "      <td>6</td>\n",
       "      <td>2.243422</td>\n",
       "      <td>20150310</td>\n",
       "    </tr>\n",
       "    <tr>\n",
       "      <th>15324</th>\n",
       "      <td>3</td>\n",
       "      <td>1.412214</td>\n",
       "      <td>20160515</td>\n",
       "    </tr>\n",
       "    <tr>\n",
       "      <th>15980</th>\n",
       "      <td>2</td>\n",
       "      <td>1.049217</td>\n",
       "      <td>20180302</td>\n",
       "    </tr>\n",
       "  </tbody>\n",
       "</table>\n",
       "</div>"
      ],
      "text/plain": [
       "       phase  amplitude      date\n",
       "2493       3   2.977630  19810329\n",
       "2838       2   0.490424  19820309\n",
       "2896       6   0.650377  19820506\n",
       "6892       8   1.054810  19930414\n",
       "7254       7   0.481206  19940411\n",
       "7986       6   0.491808  19960412\n",
       "8677       7   0.722195  19980304\n",
       "8726       6   0.866281  19980422\n",
       "9083       4   1.570950  19990414\n",
       "9457       5   0.992549  20000422\n",
       "10180      3   1.221280  20020415\n",
       "10504      5   1.384864  20030305\n",
       "10577      6   2.818886  20030517\n",
       "10931      3   2.508305  20040505\n",
       "11299      4   2.834411  20050508\n",
       "11980      5   0.957608  20070320\n",
       "12699      5   0.369856  20090308\n",
       "13455      6   1.821899  20110403\n",
       "13807      6   3.306114  20120320\n",
       "14892      6   2.243422  20150310\n",
       "15324      3   1.412214  20160515\n",
       "15980      2   1.049217  20180302"
      ]
     },
     "execution_count": 180,
     "metadata": {},
     "output_type": "execute_result"
    }
   ],
   "source": [
    "wave_amp = df_rmm[df_rmm['date'].isin(dwave['date'].tolist())]\n",
    "wave_amp"
   ]
  },
  {
   "cell_type": "code",
   "execution_count": 190,
   "id": "7c6a758b",
   "metadata": {},
   "outputs": [
    {
     "data": {
      "text/plain": [
       "1.4648322068181818"
      ]
     },
     "execution_count": 190,
     "metadata": {},
     "output_type": "execute_result"
    }
   ],
   "source": [
    "wave_amp_mean = wave_amp['amplitude'].mean()\n",
    "wave_amp_mean"
   ]
  },
  {
   "cell_type": "code",
   "execution_count": 182,
   "id": "9f6d9b09",
   "metadata": {},
   "outputs": [
    {
     "name": "stdout",
     "output_type": "stream",
     "text": [
      "       amplitude\n",
      "phase           \n",
      "2       0.769821\n",
      "3       2.029857\n",
      "4       2.202681\n",
      "5       0.926219\n",
      "6       1.742684\n",
      "7       0.601701\n",
      "8       1.054810\n"
     ]
    }
   ],
   "source": [
    "wave_perphase = wave_amp.groupby(['phase']).mean()\n",
    "print(wave_perphase)"
   ]
  },
  {
   "cell_type": "code",
   "execution_count": 184,
   "id": "b9c8114f",
   "metadata": {},
   "outputs": [
    {
     "data": {
      "text/html": [
       "<div>\n",
       "<style scoped>\n",
       "    .dataframe tbody tr th:only-of-type {\n",
       "        vertical-align: middle;\n",
       "    }\n",
       "\n",
       "    .dataframe tbody tr th {\n",
       "        vertical-align: top;\n",
       "    }\n",
       "\n",
       "    .dataframe thead th {\n",
       "        text-align: right;\n",
       "    }\n",
       "</style>\n",
       "<table border=\"1\" class=\"dataframe\">\n",
       "  <thead>\n",
       "    <tr style=\"text-align: right;\">\n",
       "      <th></th>\n",
       "      <th>amplitude</th>\n",
       "    </tr>\n",
       "    <tr>\n",
       "      <th>phase</th>\n",
       "      <th></th>\n",
       "    </tr>\n",
       "  </thead>\n",
       "  <tbody>\n",
       "    <tr>\n",
       "      <th>2</th>\n",
       "      <td>0.769821</td>\n",
       "    </tr>\n",
       "    <tr>\n",
       "      <th>3</th>\n",
       "      <td>1.960260</td>\n",
       "    </tr>\n",
       "    <tr>\n",
       "      <th>4</th>\n",
       "      <td>2.202681</td>\n",
       "    </tr>\n",
       "    <tr>\n",
       "      <th>5</th>\n",
       "      <td>0.975078</td>\n",
       "    </tr>\n",
       "    <tr>\n",
       "      <th>6</th>\n",
       "      <td>1.821899</td>\n",
       "    </tr>\n",
       "    <tr>\n",
       "      <th>7</th>\n",
       "      <td>0.601701</td>\n",
       "    </tr>\n",
       "    <tr>\n",
       "      <th>8</th>\n",
       "      <td>1.054810</td>\n",
       "    </tr>\n",
       "  </tbody>\n",
       "</table>\n",
       "</div>"
      ],
      "text/plain": [
       "       amplitude\n",
       "phase           \n",
       "2       0.769821\n",
       "3       1.960260\n",
       "4       2.202681\n",
       "5       0.975078\n",
       "6       1.821899\n",
       "7       0.601701\n",
       "8       1.054810"
      ]
     },
     "execution_count": 184,
     "metadata": {},
     "output_type": "execute_result"
    }
   ],
   "source": [
    "wave_perphase = wave_amp.groupby(['phase']).median()\n",
    "wave_perphase"
   ]
  },
  {
   "cell_type": "code",
   "execution_count": null,
   "id": "a8ddb83a",
   "metadata": {},
   "outputs": [],
   "source": []
  }
 ],
 "metadata": {
  "kernelspec": {
   "display_name": "Python 3 (ipykernel)",
   "language": "python",
   "name": "python3"
  },
  "language_info": {
   "codemirror_mode": {
    "name": "ipython",
    "version": 3
   },
   "file_extension": ".py",
   "mimetype": "text/x-python",
   "name": "python",
   "nbconvert_exporter": "python",
   "pygments_lexer": "ipython3",
   "version": "3.9.13"
  }
 },
 "nbformat": 4,
 "nbformat_minor": 5
}
