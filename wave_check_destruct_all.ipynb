{
 "cells": [
  {
   "cell_type": "code",
   "execution_count": 1,
   "id": "8d5f9f25",
   "metadata": {},
   "outputs": [],
   "source": [
    "import pandas as pd\n",
    "import numpy as np"
   ]
  },
  {
   "cell_type": "code",
   "execution_count": 2,
   "id": "804e50f4",
   "metadata": {},
   "outputs": [],
   "source": [
    "diri = \"/Users/fadhlilrizki/Documents/PhD/thesis/dataout/local_wave_phase/combined_wave/\"\n",
    "diri2 = diri+\"check/\""
   ]
  },
  {
   "cell_type": "code",
   "execution_count": 61,
   "id": "d6cf720f-f0c5-44d6-b181-12d250da01d7",
   "metadata": {},
   "outputs": [],
   "source": [
    "seasmon = 'djf'\n",
    "code = 1\n",
    "\n",
    "regioncode = [\"TE\", \"CY\", \"KY\", \"QL\",\"EC\"]\n",
    "region = regioncode[code]\n",
    "\n",
    "wave1 = \"mjo\"\n",
    "cond1 = \"wet\"\n",
    "\n",
    "wave2 = \"mjo\"\n",
    "cond2 = \"wet\"\n",
    "\n",
    "wave_destruct1 = \"mrg\"\n",
    "cond_destruct1 = \"wet\"\n",
    "\n",
    "wave_destruct2 = \"mrg\"\n",
    "cond_destruct2 = \"dry\"\n",
    "\n",
    "wave_destruct3 = \"er\"\n",
    "cond_destruct3 = \"wet\"\n",
    "\n",
    "wave_destruct4 = \"er\"\n",
    "cond_destruct4 = \"dry\"\n",
    "\n",
    "# wave_destruct3 = \"mrg\"\n",
    "# cond_destruct3 = \"wet\""
   ]
  },
  {
   "cell_type": "code",
   "execution_count": 62,
   "id": "b184b457",
   "metadata": {},
   "outputs": [],
   "source": [
    "fref = wave1+\"_\"+wave2+\"_\"+cond1+cond2+\"_\"+region+\"_\"+seasmon+\".csv\"\n",
    "\n",
    "#wave_penganggu\n",
    "fwave1 = wave_destruct1+\"_\"+wave_destruct1+\"_\"+cond_destruct1+cond_destruct1+\"_\"+region+\"_\"+seasmon+\".csv\"\n",
    "fwave2 = wave_destruct2+\"_\"+wave_destruct2+\"_\"+cond_destruct2+cond_destruct2+\"_\"+region+\"_\"+seasmon+\".csv\"\n",
    "fwave3 = wave_destruct3+\"_\"+wave_destruct3+\"_\"+cond_destruct3+cond_destruct3+\"_\"+region+\"_\"+seasmon+\".csv\"\n",
    "fwave4 = wave_destruct4+\"_\"+wave_destruct4+\"_\"+cond_destruct4+cond_destruct4+\"_\"+region+\"_\"+seasmon+\".csv\"\n",
    "# fwave4 = \"er_er_wetwet_EC_djf.csv\"\n",
    "\n",
    "fname  = wave1+\"_\"+wave2+\"_only_\"+region+\"_\"+seasmon+\".csv\"\n",
    "\n",
    "fwave_wo1 = wave1+\"_\"+wave2+\"_\"+cond1+cond2+\"_wo\"+wave_destruct1+cond_destruct1+\"_\"+region+\"_\"+seasmon+\".csv\"\n",
    "fwave_wo2 = wave1+\"_\"+wave2+\"_\"+cond1+cond2+\"_wo\"+wave_destruct2+cond_destruct2+\"_\"+region+\"_\"+seasmon+\".csv\"\n",
    "fwave_wo3 = wave1+\"_\"+wave2+\"_\"+cond1+cond2+\"_wo\"+wave_destruct3+cond_destruct3+\"_\"+region+\"_\"+seasmon+\".csv\"\n",
    "fwave_wo4 = wave1+\"_\"+wave2+\"_\"+cond1+cond2+\"_wo\"+wave_destruct4+cond_destruct4+\"_\"+region+\"_\"+seasmon+\".csv\"\n",
    "# fmjo   = \"mjo_mjo_wetwet_EC_djf.csv\""
   ]
  },
  {
   "cell_type": "code",
   "execution_count": 63,
   "id": "01514293",
   "metadata": {},
   "outputs": [],
   "source": [
    "# frmm  = \"rmm_index.txt\""
   ]
  },
  {
   "cell_type": "code",
   "execution_count": 64,
   "id": "0d0c1d36",
   "metadata": {},
   "outputs": [
    {
     "data": {
      "text/html": [
       "<div>\n",
       "<style scoped>\n",
       "    .dataframe tbody tr th:only-of-type {\n",
       "        vertical-align: middle;\n",
       "    }\n",
       "\n",
       "    .dataframe tbody tr th {\n",
       "        vertical-align: top;\n",
       "    }\n",
       "\n",
       "    .dataframe thead th {\n",
       "        text-align: right;\n",
       "    }\n",
       "</style>\n",
       "<table border=\"1\" class=\"dataframe\">\n",
       "  <thead>\n",
       "    <tr style=\"text-align: right;\">\n",
       "      <th></th>\n",
       "      <th>date</th>\n",
       "    </tr>\n",
       "  </thead>\n",
       "  <tbody>\n",
       "    <tr>\n",
       "      <th>0</th>\n",
       "      <td>19810123</td>\n",
       "    </tr>\n",
       "    <tr>\n",
       "      <th>1</th>\n",
       "      <td>19810130</td>\n",
       "    </tr>\n",
       "    <tr>\n",
       "      <th>2</th>\n",
       "      <td>19810206</td>\n",
       "    </tr>\n",
       "    <tr>\n",
       "      <th>3</th>\n",
       "      <td>19810220</td>\n",
       "    </tr>\n",
       "    <tr>\n",
       "      <th>4</th>\n",
       "      <td>19811228</td>\n",
       "    </tr>\n",
       "    <tr>\n",
       "      <th>...</th>\n",
       "      <td>...</td>\n",
       "    </tr>\n",
       "    <tr>\n",
       "      <th>1544</th>\n",
       "      <td>20181207</td>\n",
       "    </tr>\n",
       "    <tr>\n",
       "      <th>1545</th>\n",
       "      <td>20181208</td>\n",
       "    </tr>\n",
       "    <tr>\n",
       "      <th>1546</th>\n",
       "      <td>20181209</td>\n",
       "    </tr>\n",
       "    <tr>\n",
       "      <th>1547</th>\n",
       "      <td>20181210</td>\n",
       "    </tr>\n",
       "    <tr>\n",
       "      <th>1548</th>\n",
       "      <td>20181231</td>\n",
       "    </tr>\n",
       "  </tbody>\n",
       "</table>\n",
       "<p>3657 rows × 1 columns</p>\n",
       "</div>"
      ],
      "text/plain": [
       "          date\n",
       "0     19810123\n",
       "1     19810130\n",
       "2     19810206\n",
       "3     19810220\n",
       "4     19811228\n",
       "...        ...\n",
       "1544  20181207\n",
       "1545  20181208\n",
       "1546  20181209\n",
       "1547  20181210\n",
       "1548  20181231\n",
       "\n",
       "[3657 rows x 1 columns]"
      ]
     },
     "execution_count": 64,
     "metadata": {},
     "output_type": "execute_result"
    }
   ],
   "source": [
    "dwaveref = pd.read_csv(diri+fref)\n",
    "dwaveref['date'] = dwaveref['date'].astype('str')\n",
    "\n",
    "dwave1 = pd.read_csv(diri+fwave1)\n",
    "dwave1['date'] = dwave1['date'].astype('str')\n",
    "\n",
    "dwave2 = pd.read_csv(diri+fwave2)\n",
    "dwave2['date'] = dwave2['date'].astype('str')\n",
    "\n",
    "dwave3 = pd.read_csv(diri+fwave3)\n",
    "dwave3['date'] = dwave3['date'].astype('str')\n",
    "\n",
    "dwave4 = pd.read_csv(diri+fwave4)\n",
    "dwave4['date'] = dwave4['date'].astype('str')\n",
    "\n",
    "dall   = pd.concat([dwave1, dwave2, dwave3, dwave4])\n",
    "dall\n",
    "# dwave4 = pd.read_csv(diri+fwave4)\n",
    "# dwave4['date'] = dwave4['date'].astype('str')\n",
    "# dwave4"
   ]
  },
  {
   "cell_type": "code",
   "execution_count": 65,
   "id": "372f9200",
   "metadata": {},
   "outputs": [],
   "source": [
    "# dmjo  = pd.read_csv(diri+fmjo)\n",
    "# dmjo['date'] = dmjo['date'].astype('str')\n",
    "\n",
    "# print(\"printing lists in new line\")\n",
    " \n",
    "# print(*dmjo['date'], sep = \"\\n\")"
   ]
  },
  {
   "cell_type": "code",
   "execution_count": 66,
   "id": "ae4dad57",
   "metadata": {},
   "outputs": [
    {
     "data": {
      "text/html": [
       "<div>\n",
       "<style scoped>\n",
       "    .dataframe tbody tr th:only-of-type {\n",
       "        vertical-align: middle;\n",
       "    }\n",
       "\n",
       "    .dataframe tbody tr th {\n",
       "        vertical-align: top;\n",
       "    }\n",
       "\n",
       "    .dataframe thead th {\n",
       "        text-align: right;\n",
       "    }\n",
       "</style>\n",
       "<table border=\"1\" class=\"dataframe\">\n",
       "  <thead>\n",
       "    <tr style=\"text-align: right;\">\n",
       "      <th></th>\n",
       "      <th>date</th>\n",
       "    </tr>\n",
       "  </thead>\n",
       "  <tbody>\n",
       "    <tr>\n",
       "      <th>0</th>\n",
       "      <td>19810219</td>\n",
       "    </tr>\n",
       "    <tr>\n",
       "      <th>1</th>\n",
       "      <td>19810220</td>\n",
       "    </tr>\n",
       "    <tr>\n",
       "      <th>2</th>\n",
       "      <td>19810221</td>\n",
       "    </tr>\n",
       "    <tr>\n",
       "      <th>3</th>\n",
       "      <td>19810222</td>\n",
       "    </tr>\n",
       "    <tr>\n",
       "      <th>4</th>\n",
       "      <td>19810223</td>\n",
       "    </tr>\n",
       "    <tr>\n",
       "      <th>...</th>\n",
       "      <td>...</td>\n",
       "    </tr>\n",
       "    <tr>\n",
       "      <th>402</th>\n",
       "      <td>20181204</td>\n",
       "    </tr>\n",
       "    <tr>\n",
       "      <th>403</th>\n",
       "      <td>20181205</td>\n",
       "    </tr>\n",
       "    <tr>\n",
       "      <th>404</th>\n",
       "      <td>20181206</td>\n",
       "    </tr>\n",
       "    <tr>\n",
       "      <th>405</th>\n",
       "      <td>20181229</td>\n",
       "    </tr>\n",
       "    <tr>\n",
       "      <th>406</th>\n",
       "      <td>20181230</td>\n",
       "    </tr>\n",
       "  </tbody>\n",
       "</table>\n",
       "<p>407 rows × 1 columns</p>\n",
       "</div>"
      ],
      "text/plain": [
       "         date\n",
       "0    19810219\n",
       "1    19810220\n",
       "2    19810221\n",
       "3    19810222\n",
       "4    19810223\n",
       "..        ...\n",
       "402  20181204\n",
       "403  20181205\n",
       "404  20181206\n",
       "405  20181229\n",
       "406  20181230\n",
       "\n",
       "[407 rows x 1 columns]"
      ]
     },
     "execution_count": 66,
     "metadata": {},
     "output_type": "execute_result"
    }
   ],
   "source": [
    "# mjo_er_dry  = dmjo[dmjo['date'].isin(dwave2['date'].tolist())]\n",
    "# mjo_mrg_dry = dmjo[dmjo['date'].isin(dwave3['date'].tolist())]\n",
    "# mjo_mrg_dry_without_er = mjo_mrg_dry[~mjo_mrg_dry['date'].isin(dwave4['date'].tolist())]\n",
    "\n",
    "\n",
    "# mjo_mrg_dry_without_er\n",
    "dwaveref"
   ]
  },
  {
   "cell_type": "code",
   "execution_count": 67,
   "id": "f87075b8",
   "metadata": {},
   "outputs": [
    {
     "name": "stdout",
     "output_type": "stream",
     "text": [
      "3      19810222\n",
      "4      19810223\n",
      "42     19861204\n",
      "92     19911210\n",
      "93     19911211\n",
      "103    19920206\n",
      "109    19920224\n",
      "110    19920225\n",
      "113    19921220\n",
      "132    19940226\n",
      "133    19940227\n",
      "134    19940228\n",
      "145    19950119\n",
      "148    19950122\n",
      "169    19971230\n",
      "170    19971231\n",
      "172    19980227\n",
      "173    19980228\n",
      "174    19981205\n",
      "177    19981208\n",
      "178    19981209\n",
      "179    19981210\n",
      "180    19981211\n",
      "181    19990113\n",
      "182    19990114\n",
      "183    19990115\n",
      "184    19990116\n",
      "185    19990117\n",
      "195    19990215\n",
      "196    19991221\n",
      "197    19991222\n",
      "198    19991223\n",
      "199    19991224\n",
      "200    19991225\n",
      "217    20011211\n",
      "236    20020216\n",
      "237    20020217\n",
      "319    20101227\n",
      "320    20101228\n",
      "329    20120201\n",
      "338    20121225\n",
      "344    20150108\n",
      "358    20151227\n",
      "359    20151228\n",
      "373    20161231\n",
      "387    20171209\n",
      "388    20171210\n",
      "389    20180122\n",
      "398    20180226\n",
      "Name: date, dtype: object\n",
      "WAVEREF wet & wet w/o wave1 dry) n=154 or 37.84 %\n",
      "WAVEREF wet & wet w/o wave2 dry) n=354 or 86.98 %\n",
      "WAVEREF wet & wet only) n=49 or 12.04 %\n"
     ]
    }
   ],
   "source": [
    "waveref_wowave1 = dwaveref[~dwaveref['date'].isin(dwave1['date'].tolist())] \n",
    "waveref_wowave2 = dwaveref[~dwaveref['date'].isin(dwave2['date'].tolist())] \n",
    "waveref_wowave3 = dwaveref[~dwaveref['date'].isin(dwave3['date'].tolist())] \n",
    "waveref_wowave4 = dwaveref[~dwaveref['date'].isin(dwave4['date'].tolist())] \n",
    "\n",
    "waverefonly     = dwaveref[~dwaveref['date'].isin(dall['date'].tolist())]\n",
    "\n",
    "print(waverefonly['date'])\n",
    "# print(waveref_wowave1['date'])\n",
    "# waverefonly     = waverefonly[~waveref_wowave1['date'].tolist()]\n",
    "\n",
    "print(\"WAVEREF wet & wet w/o wave1 dry) n=\" +str(len(waveref_wowave2))+\" or \"+str(round(len(waveref_wowave2)*100/len(dwaveref['date']),2)) +\" %\")\n",
    "print(\"WAVEREF wet & wet w/o wave2 dry) n=\" +str(len(waveref_wowave3))+\" or \"+str(round(len(waveref_wowave3)*100/len(dwaveref['date']),2)) +\" %\")\n",
    "print(\"WAVEREF wet & wet only) n=\" +str(len(waverefonly))+\" or \"+str(round(len(waverefonly)*100/len(dwaveref['date']),2)) +\" %\")"
   ]
  },
  {
   "cell_type": "code",
   "execution_count": 68,
   "id": "e0529a93",
   "metadata": {},
   "outputs": [],
   "source": [
    "waverefonly['date'].to_csv(diri2+fname,index=False)\n",
    "waveref_wowave1['date'].to_csv(diri2+fwave_wo1,index=False)\n",
    "waveref_wowave2['date'].to_csv(diri2+fwave_wo2,index=False)\n",
    "waveref_wowave3['date'].to_csv(diri2+fwave_wo3,index=False)\n",
    "waveref_wowave4['date'].to_csv(diri2+fwave_wo4,index=False)"
   ]
  },
  {
   "cell_type": "code",
   "execution_count": 69,
   "id": "a8ddb83a",
   "metadata": {},
   "outputs": [],
   "source": [
    "!ncl 'fcsv=\"{diri2}{fname}\"' 'season=\"{seasmon}\"' 'code={code}' combined_rain_check.ncl > '/Users/fadhlilrizki/Documents/PhD/thesis/figures/misc/wavecheck_{fname}.txt'"
   ]
  },
  {
   "cell_type": "code",
   "execution_count": 70,
   "id": "b72f36f9",
   "metadata": {},
   "outputs": [],
   "source": [
    "!ncl 'fcsv=\"{diri2}{fwave_wo1}\"' 'season=\"{seasmon}\"' 'code={code}' combined_rain_check.ncl > '/Users/fadhlilrizki/Documents/PhD/thesis/figures/misc/wavecheck_{fwave_wo1}.txt'"
   ]
  },
  {
   "cell_type": "code",
   "execution_count": 71,
   "id": "85d5f0cc-f13f-45b1-92eb-e7c46417d5b1",
   "metadata": {},
   "outputs": [],
   "source": [
    "!ncl 'fcsv=\"{diri2}{fwave_wo2}\"' 'season=\"{seasmon}\"' 'code={code}' combined_rain_check.ncl > '/Users/fadhlilrizki/Documents/PhD/thesis/figures/misc/wavecheck_{fwave_wo2}.txt'"
   ]
  },
  {
   "cell_type": "code",
   "execution_count": 72,
   "id": "140722e1-392f-4069-afa1-ceb989bb412c",
   "metadata": {},
   "outputs": [],
   "source": [
    "!ncl 'fcsv=\"{diri2}{fwave_wo3}\"' 'season=\"{seasmon}\"' 'code={code}' combined_rain_check.ncl > '/Users/fadhlilrizki/Documents/PhD/thesis/figures/misc/wavecheck_{fwave_wo3}.txt'"
   ]
  },
  {
   "cell_type": "code",
   "execution_count": 73,
   "id": "30fa8920-85e0-46f0-81ab-6c1a49f01714",
   "metadata": {},
   "outputs": [],
   "source": [
    "!ncl 'fcsv=\"{diri2}{fwave_wo4}\"' 'season=\"{seasmon}\"' 'code={code}' combined_rain_check.ncl > '/Users/fadhlilrizki/Documents/PhD/thesis/figures/misc/wavecheck_{fwave_wo4}.txt'"
   ]
  },
  {
   "cell_type": "code",
   "execution_count": 74,
   "id": "0d7195ec-8fe8-4bfc-9f05-fadea4cf658d",
   "metadata": {},
   "outputs": [],
   "source": [
    "!ncl 'fcsv=\"{diri}{fref}\"' 'season=\"{seasmon}\"' 'code={code}' combined_rain_check.ncl > '/Users/fadhlilrizki/Documents/PhD/thesis/figures/misc/wavecheck_{fref}.txt'"
   ]
  },
  {
   "cell_type": "code",
   "execution_count": 75,
   "id": "074fd16d-2884-491a-b1ac-767deb6838af",
   "metadata": {},
   "outputs": [
    {
     "data": {
      "text/plain": [
       "'mjo_mjo_wetwet_womrgdry_CY_djf.csv'"
      ]
     },
     "execution_count": 75,
     "metadata": {},
     "output_type": "execute_result"
    }
   ],
   "source": [
    "fwave_wo2"
   ]
  },
  {
   "cell_type": "code",
   "execution_count": null,
   "id": "fa44b05e-8f71-4f83-9933-3ad585af91bd",
   "metadata": {},
   "outputs": [],
   "source": []
  }
 ],
 "metadata": {
  "kernelspec": {
   "display_name": "Python 3 (ipykernel)",
   "language": "python",
   "name": "python3"
  },
  "language_info": {
   "codemirror_mode": {
    "name": "ipython",
    "version": 3
   },
   "file_extension": ".py",
   "mimetype": "text/x-python",
   "name": "python",
   "nbconvert_exporter": "python",
   "pygments_lexer": "ipython3",
   "version": "3.11.0"
  }
 },
 "nbformat": 4,
 "nbformat_minor": 5
}
